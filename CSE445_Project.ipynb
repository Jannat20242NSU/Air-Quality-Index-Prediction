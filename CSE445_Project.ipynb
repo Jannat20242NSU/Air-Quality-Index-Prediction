{
 "cells": [
  {
   "cell_type": "code",
   "execution_count": 1,
   "id": "626a1474",
   "metadata": {},
   "outputs": [],
   "source": [
    "import numpy as np\n",
    "import pandas as pd\n",
    "import matplotlib.pyplot as plt\n",
    "import seaborn as sns\n",
    "import time\n",
    "from subprocess import check_output"
   ]
  },
  {
   "cell_type": "code",
   "execution_count": 2,
   "id": "72f96648",
   "metadata": {},
   "outputs": [],
   "source": [
    "df = pd.read_csv(\"E:\\Spring 2023\\CSE445\\Dhaka_PM2.5_2022.csv\", parse_dates=[\"Date (LT)\"])"
   ]
  },
  {
   "cell_type": "code",
   "execution_count": 3,
   "id": "7d9e458d",
   "metadata": {},
   "outputs": [
    {
     "data": {
      "text/html": [
       "<div>\n",
       "<style scoped>\n",
       "    .dataframe tbody tr th:only-of-type {\n",
       "        vertical-align: middle;\n",
       "    }\n",
       "\n",
       "    .dataframe tbody tr th {\n",
       "        vertical-align: top;\n",
       "    }\n",
       "\n",
       "    .dataframe thead th {\n",
       "        text-align: right;\n",
       "    }\n",
       "</style>\n",
       "<table border=\"1\" class=\"dataframe\">\n",
       "  <thead>\n",
       "    <tr style=\"text-align: right;\">\n",
       "      <th></th>\n",
       "      <th>Site</th>\n",
       "      <th>Parameter</th>\n",
       "      <th>Date (LT)</th>\n",
       "      <th>Year</th>\n",
       "      <th>Month</th>\n",
       "      <th>Day</th>\n",
       "      <th>Hour</th>\n",
       "      <th>NowCast Conc.</th>\n",
       "      <th>AQI</th>\n",
       "      <th>AQI Category</th>\n",
       "      <th>Raw Conc.</th>\n",
       "      <th>Conc. Unit</th>\n",
       "      <th>Duration</th>\n",
       "      <th>QC Name</th>\n",
       "    </tr>\n",
       "  </thead>\n",
       "  <tbody>\n",
       "    <tr>\n",
       "      <th>0</th>\n",
       "      <td>Dhaka</td>\n",
       "      <td>PM2.5 - Principal</td>\n",
       "      <td>2022-01-01 01:00:00</td>\n",
       "      <td>2022</td>\n",
       "      <td>1</td>\n",
       "      <td>1</td>\n",
       "      <td>1</td>\n",
       "      <td>130.1</td>\n",
       "      <td>190</td>\n",
       "      <td>Unhealthy</td>\n",
       "      <td>129</td>\n",
       "      <td>UG/M3</td>\n",
       "      <td>1 Hr</td>\n",
       "      <td>Valid</td>\n",
       "    </tr>\n",
       "    <tr>\n",
       "      <th>1</th>\n",
       "      <td>Dhaka</td>\n",
       "      <td>PM2.5 - Principal</td>\n",
       "      <td>2022-01-01 02:00:00</td>\n",
       "      <td>2022</td>\n",
       "      <td>1</td>\n",
       "      <td>1</td>\n",
       "      <td>2</td>\n",
       "      <td>128.1</td>\n",
       "      <td>188</td>\n",
       "      <td>Unhealthy</td>\n",
       "      <td>126</td>\n",
       "      <td>UG/M3</td>\n",
       "      <td>1 Hr</td>\n",
       "      <td>Valid</td>\n",
       "    </tr>\n",
       "    <tr>\n",
       "      <th>2</th>\n",
       "      <td>Dhaka</td>\n",
       "      <td>PM2.5 - Principal</td>\n",
       "      <td>2022-01-01 03:00:00</td>\n",
       "      <td>2022</td>\n",
       "      <td>1</td>\n",
       "      <td>1</td>\n",
       "      <td>3</td>\n",
       "      <td>125.1</td>\n",
       "      <td>187</td>\n",
       "      <td>Unhealthy</td>\n",
       "      <td>121</td>\n",
       "      <td>UG/M3</td>\n",
       "      <td>1 Hr</td>\n",
       "      <td>Valid</td>\n",
       "    </tr>\n",
       "    <tr>\n",
       "      <th>3</th>\n",
       "      <td>Dhaka</td>\n",
       "      <td>PM2.5 - Principal</td>\n",
       "      <td>2022-01-01 04:00:00</td>\n",
       "      <td>2022</td>\n",
       "      <td>1</td>\n",
       "      <td>1</td>\n",
       "      <td>4</td>\n",
       "      <td>125.6</td>\n",
       "      <td>187</td>\n",
       "      <td>Unhealthy</td>\n",
       "      <td>126</td>\n",
       "      <td>UG/M3</td>\n",
       "      <td>1 Hr</td>\n",
       "      <td>Valid</td>\n",
       "    </tr>\n",
       "    <tr>\n",
       "      <th>4</th>\n",
       "      <td>Dhaka</td>\n",
       "      <td>PM2.5 - Principal</td>\n",
       "      <td>2022-01-01 05:00:00</td>\n",
       "      <td>2022</td>\n",
       "      <td>1</td>\n",
       "      <td>1</td>\n",
       "      <td>5</td>\n",
       "      <td>124.2</td>\n",
       "      <td>186</td>\n",
       "      <td>Unhealthy</td>\n",
       "      <td>120</td>\n",
       "      <td>UG/M3</td>\n",
       "      <td>1 Hr</td>\n",
       "      <td>Valid</td>\n",
       "    </tr>\n",
       "    <tr>\n",
       "      <th>...</th>\n",
       "      <td>...</td>\n",
       "      <td>...</td>\n",
       "      <td>...</td>\n",
       "      <td>...</td>\n",
       "      <td>...</td>\n",
       "      <td>...</td>\n",
       "      <td>...</td>\n",
       "      <td>...</td>\n",
       "      <td>...</td>\n",
       "      <td>...</td>\n",
       "      <td>...</td>\n",
       "      <td>...</td>\n",
       "      <td>...</td>\n",
       "      <td>...</td>\n",
       "    </tr>\n",
       "    <tr>\n",
       "      <th>8407</th>\n",
       "      <td>Dhaka</td>\n",
       "      <td>PM2.5 - Principal</td>\n",
       "      <td>2022-12-31 20:00:00</td>\n",
       "      <td>2022</td>\n",
       "      <td>12</td>\n",
       "      <td>31</td>\n",
       "      <td>20</td>\n",
       "      <td>239.8</td>\n",
       "      <td>289</td>\n",
       "      <td>V. Unhealthy</td>\n",
       "      <td>265</td>\n",
       "      <td>UG/M3</td>\n",
       "      <td>1 Hr</td>\n",
       "      <td>Valid</td>\n",
       "    </tr>\n",
       "    <tr>\n",
       "      <th>8408</th>\n",
       "      <td>Dhaka</td>\n",
       "      <td>PM2.5 - Principal</td>\n",
       "      <td>2022-12-31 21:00:00</td>\n",
       "      <td>2022</td>\n",
       "      <td>12</td>\n",
       "      <td>31</td>\n",
       "      <td>21</td>\n",
       "      <td>296.7</td>\n",
       "      <td>347</td>\n",
       "      <td>Hazardous</td>\n",
       "      <td>346</td>\n",
       "      <td>UG/M3</td>\n",
       "      <td>1 Hr</td>\n",
       "      <td>Valid</td>\n",
       "    </tr>\n",
       "    <tr>\n",
       "      <th>8409</th>\n",
       "      <td>Dhaka</td>\n",
       "      <td>PM2.5 - Principal</td>\n",
       "      <td>2022-12-31 22:00:00</td>\n",
       "      <td>2022</td>\n",
       "      <td>12</td>\n",
       "      <td>31</td>\n",
       "      <td>22</td>\n",
       "      <td>268.9</td>\n",
       "      <td>319</td>\n",
       "      <td>Hazardous</td>\n",
       "      <td>241</td>\n",
       "      <td>UG/M3</td>\n",
       "      <td>1 Hr</td>\n",
       "      <td>Valid</td>\n",
       "    </tr>\n",
       "    <tr>\n",
       "      <th>8410</th>\n",
       "      <td>Dhaka</td>\n",
       "      <td>PM2.5 - Principal</td>\n",
       "      <td>2022-12-31 23:00:00</td>\n",
       "      <td>2022</td>\n",
       "      <td>12</td>\n",
       "      <td>31</td>\n",
       "      <td>23</td>\n",
       "      <td>261.4</td>\n",
       "      <td>312</td>\n",
       "      <td>Hazardous</td>\n",
       "      <td>254</td>\n",
       "      <td>UG/M3</td>\n",
       "      <td>1 Hr</td>\n",
       "      <td>Valid</td>\n",
       "    </tr>\n",
       "    <tr>\n",
       "      <th>8411</th>\n",
       "      <td>Dhaka</td>\n",
       "      <td>PM2.5 - Principal</td>\n",
       "      <td>2023-01-01 00:00:00</td>\n",
       "      <td>2023</td>\n",
       "      <td>1</td>\n",
       "      <td>1</td>\n",
       "      <td>0</td>\n",
       "      <td>255.2</td>\n",
       "      <td>306</td>\n",
       "      <td>Hazardous</td>\n",
       "      <td>249</td>\n",
       "      <td>UG/M3</td>\n",
       "      <td>1 Hr</td>\n",
       "      <td>Valid</td>\n",
       "    </tr>\n",
       "  </tbody>\n",
       "</table>\n",
       "<p>8412 rows × 14 columns</p>\n",
       "</div>"
      ],
      "text/plain": [
       "       Site          Parameter           Date (LT)  Year  Month  Day  Hour  \\\n",
       "0     Dhaka  PM2.5 - Principal 2022-01-01 01:00:00  2022      1    1     1   \n",
       "1     Dhaka  PM2.5 - Principal 2022-01-01 02:00:00  2022      1    1     2   \n",
       "2     Dhaka  PM2.5 - Principal 2022-01-01 03:00:00  2022      1    1     3   \n",
       "3     Dhaka  PM2.5 - Principal 2022-01-01 04:00:00  2022      1    1     4   \n",
       "4     Dhaka  PM2.5 - Principal 2022-01-01 05:00:00  2022      1    1     5   \n",
       "...     ...                ...                 ...   ...    ...  ...   ...   \n",
       "8407  Dhaka  PM2.5 - Principal 2022-12-31 20:00:00  2022     12   31    20   \n",
       "8408  Dhaka  PM2.5 - Principal 2022-12-31 21:00:00  2022     12   31    21   \n",
       "8409  Dhaka  PM2.5 - Principal 2022-12-31 22:00:00  2022     12   31    22   \n",
       "8410  Dhaka  PM2.5 - Principal 2022-12-31 23:00:00  2022     12   31    23   \n",
       "8411  Dhaka  PM2.5 - Principal 2023-01-01 00:00:00  2023      1    1     0   \n",
       "\n",
       "      NowCast Conc.  AQI  AQI Category  Raw Conc. Conc. Unit Duration QC Name  \n",
       "0             130.1  190     Unhealthy        129      UG/M3     1 Hr   Valid  \n",
       "1             128.1  188     Unhealthy        126      UG/M3     1 Hr   Valid  \n",
       "2             125.1  187     Unhealthy        121      UG/M3     1 Hr   Valid  \n",
       "3             125.6  187     Unhealthy        126      UG/M3     1 Hr   Valid  \n",
       "4             124.2  186     Unhealthy        120      UG/M3     1 Hr   Valid  \n",
       "...             ...  ...           ...        ...        ...      ...     ...  \n",
       "8407          239.8  289  V. Unhealthy        265      UG/M3     1 Hr   Valid  \n",
       "8408          296.7  347     Hazardous        346      UG/M3     1 Hr   Valid  \n",
       "8409          268.9  319     Hazardous        241      UG/M3     1 Hr   Valid  \n",
       "8410          261.4  312     Hazardous        254      UG/M3     1 Hr   Valid  \n",
       "8411          255.2  306     Hazardous        249      UG/M3     1 Hr   Valid  \n",
       "\n",
       "[8412 rows x 14 columns]"
      ]
     },
     "execution_count": 3,
     "metadata": {},
     "output_type": "execute_result"
    }
   ],
   "source": [
    "df"
   ]
  },
  {
   "cell_type": "code",
   "execution_count": 4,
   "id": "3d146399",
   "metadata": {},
   "outputs": [],
   "source": [
    "df.reset_index(inplace=True)\n",
    "df.set_index('Date (LT)', inplace = True)\n",
    "#drop index column\n",
    "df= df.drop(columns= ['index'], axis=1)"
   ]
  },
  {
   "cell_type": "code",
   "execution_count": 5,
   "id": "f03604bb",
   "metadata": {},
   "outputs": [
    {
     "data": {
      "text/html": [
       "<div>\n",
       "<style scoped>\n",
       "    .dataframe tbody tr th:only-of-type {\n",
       "        vertical-align: middle;\n",
       "    }\n",
       "\n",
       "    .dataframe tbody tr th {\n",
       "        vertical-align: top;\n",
       "    }\n",
       "\n",
       "    .dataframe thead th {\n",
       "        text-align: right;\n",
       "    }\n",
       "</style>\n",
       "<table border=\"1\" class=\"dataframe\">\n",
       "  <thead>\n",
       "    <tr style=\"text-align: right;\">\n",
       "      <th></th>\n",
       "      <th>Site</th>\n",
       "      <th>Parameter</th>\n",
       "      <th>Year</th>\n",
       "      <th>Month</th>\n",
       "      <th>Day</th>\n",
       "      <th>Hour</th>\n",
       "      <th>NowCast Conc.</th>\n",
       "      <th>AQI</th>\n",
       "      <th>AQI Category</th>\n",
       "      <th>Raw Conc.</th>\n",
       "      <th>Conc. Unit</th>\n",
       "      <th>Duration</th>\n",
       "      <th>QC Name</th>\n",
       "    </tr>\n",
       "    <tr>\n",
       "      <th>Date (LT)</th>\n",
       "      <th></th>\n",
       "      <th></th>\n",
       "      <th></th>\n",
       "      <th></th>\n",
       "      <th></th>\n",
       "      <th></th>\n",
       "      <th></th>\n",
       "      <th></th>\n",
       "      <th></th>\n",
       "      <th></th>\n",
       "      <th></th>\n",
       "      <th></th>\n",
       "      <th></th>\n",
       "    </tr>\n",
       "  </thead>\n",
       "  <tbody>\n",
       "    <tr>\n",
       "      <th>2022-08-14 09:00:00</th>\n",
       "      <td>Dhaka</td>\n",
       "      <td>PM2.5 - Principal</td>\n",
       "      <td>2022</td>\n",
       "      <td>8</td>\n",
       "      <td>14</td>\n",
       "      <td>9</td>\n",
       "      <td>14.9</td>\n",
       "      <td>57</td>\n",
       "      <td>Moderate</td>\n",
       "      <td>15</td>\n",
       "      <td>UG/M3</td>\n",
       "      <td>1 Hr</td>\n",
       "      <td>Valid</td>\n",
       "    </tr>\n",
       "    <tr>\n",
       "      <th>2022-12-30 23:00:00</th>\n",
       "      <td>Dhaka</td>\n",
       "      <td>PM2.5 - Principal</td>\n",
       "      <td>2022</td>\n",
       "      <td>12</td>\n",
       "      <td>30</td>\n",
       "      <td>23</td>\n",
       "      <td>244.0</td>\n",
       "      <td>294</td>\n",
       "      <td>V. Unhealthy</td>\n",
       "      <td>258</td>\n",
       "      <td>UG/M3</td>\n",
       "      <td>1 Hr</td>\n",
       "      <td>Valid</td>\n",
       "    </tr>\n",
       "    <tr>\n",
       "      <th>2022-04-26 08:00:00</th>\n",
       "      <td>Dhaka</td>\n",
       "      <td>PM2.5 - Principal</td>\n",
       "      <td>2022</td>\n",
       "      <td>4</td>\n",
       "      <td>26</td>\n",
       "      <td>8</td>\n",
       "      <td>82.3</td>\n",
       "      <td>165</td>\n",
       "      <td>Unhealthy</td>\n",
       "      <td>78</td>\n",
       "      <td>UG/M3</td>\n",
       "      <td>1 Hr</td>\n",
       "      <td>Valid</td>\n",
       "    </tr>\n",
       "    <tr>\n",
       "      <th>2022-04-04 18:00:00</th>\n",
       "      <td>Dhaka</td>\n",
       "      <td>PM2.5 - Principal</td>\n",
       "      <td>2022</td>\n",
       "      <td>4</td>\n",
       "      <td>4</td>\n",
       "      <td>18</td>\n",
       "      <td>57.3</td>\n",
       "      <td>152</td>\n",
       "      <td>Unhealthy</td>\n",
       "      <td>62</td>\n",
       "      <td>UG/M3</td>\n",
       "      <td>1 Hr</td>\n",
       "      <td>Valid</td>\n",
       "    </tr>\n",
       "    <tr>\n",
       "      <th>2022-06-16 12:00:00</th>\n",
       "      <td>Dhaka</td>\n",
       "      <td>PM2.5 - Principal</td>\n",
       "      <td>2022</td>\n",
       "      <td>6</td>\n",
       "      <td>16</td>\n",
       "      <td>12</td>\n",
       "      <td>58.3</td>\n",
       "      <td>152</td>\n",
       "      <td>Unhealthy</td>\n",
       "      <td>64</td>\n",
       "      <td>UG/M3</td>\n",
       "      <td>1 Hr</td>\n",
       "      <td>Valid</td>\n",
       "    </tr>\n",
       "    <tr>\n",
       "      <th>...</th>\n",
       "      <td>...</td>\n",
       "      <td>...</td>\n",
       "      <td>...</td>\n",
       "      <td>...</td>\n",
       "      <td>...</td>\n",
       "      <td>...</td>\n",
       "      <td>...</td>\n",
       "      <td>...</td>\n",
       "      <td>...</td>\n",
       "      <td>...</td>\n",
       "      <td>...</td>\n",
       "      <td>...</td>\n",
       "      <td>...</td>\n",
       "    </tr>\n",
       "    <tr>\n",
       "      <th>2022-08-04 16:00:00</th>\n",
       "      <td>Dhaka</td>\n",
       "      <td>PM2.5 - Principal</td>\n",
       "      <td>2022</td>\n",
       "      <td>8</td>\n",
       "      <td>4</td>\n",
       "      <td>16</td>\n",
       "      <td>37.7</td>\n",
       "      <td>106</td>\n",
       "      <td>Un. Sensitive</td>\n",
       "      <td>49</td>\n",
       "      <td>UG/M3</td>\n",
       "      <td>1 Hr</td>\n",
       "      <td>Valid</td>\n",
       "    </tr>\n",
       "    <tr>\n",
       "      <th>2022-11-15 06:00:00</th>\n",
       "      <td>Dhaka</td>\n",
       "      <td>PM2.5 - Principal</td>\n",
       "      <td>2022</td>\n",
       "      <td>11</td>\n",
       "      <td>15</td>\n",
       "      <td>6</td>\n",
       "      <td>141.5</td>\n",
       "      <td>195</td>\n",
       "      <td>Unhealthy</td>\n",
       "      <td>141</td>\n",
       "      <td>UG/M3</td>\n",
       "      <td>1 Hr</td>\n",
       "      <td>Valid</td>\n",
       "    </tr>\n",
       "    <tr>\n",
       "      <th>2022-02-26 06:00:00</th>\n",
       "      <td>Dhaka</td>\n",
       "      <td>PM2.5 - Principal</td>\n",
       "      <td>2022</td>\n",
       "      <td>2</td>\n",
       "      <td>26</td>\n",
       "      <td>6</td>\n",
       "      <td>96.8</td>\n",
       "      <td>172</td>\n",
       "      <td>Unhealthy</td>\n",
       "      <td>82</td>\n",
       "      <td>UG/M3</td>\n",
       "      <td>1 Hr</td>\n",
       "      <td>Valid</td>\n",
       "    </tr>\n",
       "    <tr>\n",
       "      <th>2022-11-15 08:00:00</th>\n",
       "      <td>Dhaka</td>\n",
       "      <td>PM2.5 - Principal</td>\n",
       "      <td>2022</td>\n",
       "      <td>11</td>\n",
       "      <td>15</td>\n",
       "      <td>8</td>\n",
       "      <td>143.3</td>\n",
       "      <td>196</td>\n",
       "      <td>Unhealthy</td>\n",
       "      <td>148</td>\n",
       "      <td>UG/M3</td>\n",
       "      <td>1 Hr</td>\n",
       "      <td>Valid</td>\n",
       "    </tr>\n",
       "    <tr>\n",
       "      <th>2022-02-23 23:00:00</th>\n",
       "      <td>Dhaka</td>\n",
       "      <td>PM2.5 - Principal</td>\n",
       "      <td>2022</td>\n",
       "      <td>2</td>\n",
       "      <td>23</td>\n",
       "      <td>23</td>\n",
       "      <td>200.3</td>\n",
       "      <td>250</td>\n",
       "      <td>V. Unhealthy</td>\n",
       "      <td>172</td>\n",
       "      <td>UG/M3</td>\n",
       "      <td>1 Hr</td>\n",
       "      <td>Valid</td>\n",
       "    </tr>\n",
       "  </tbody>\n",
       "</table>\n",
       "<p>6309 rows × 13 columns</p>\n",
       "</div>"
      ],
      "text/plain": [
       "                      Site          Parameter  Year  Month  Day  Hour  \\\n",
       "Date (LT)                                                               \n",
       "2022-08-14 09:00:00  Dhaka  PM2.5 - Principal  2022      8   14     9   \n",
       "2022-12-30 23:00:00  Dhaka  PM2.5 - Principal  2022     12   30    23   \n",
       "2022-04-26 08:00:00  Dhaka  PM2.5 - Principal  2022      4   26     8   \n",
       "2022-04-04 18:00:00  Dhaka  PM2.5 - Principal  2022      4    4    18   \n",
       "2022-06-16 12:00:00  Dhaka  PM2.5 - Principal  2022      6   16    12   \n",
       "...                    ...                ...   ...    ...  ...   ...   \n",
       "2022-08-04 16:00:00  Dhaka  PM2.5 - Principal  2022      8    4    16   \n",
       "2022-11-15 06:00:00  Dhaka  PM2.5 - Principal  2022     11   15     6   \n",
       "2022-02-26 06:00:00  Dhaka  PM2.5 - Principal  2022      2   26     6   \n",
       "2022-11-15 08:00:00  Dhaka  PM2.5 - Principal  2022     11   15     8   \n",
       "2022-02-23 23:00:00  Dhaka  PM2.5 - Principal  2022      2   23    23   \n",
       "\n",
       "                     NowCast Conc.  AQI   AQI Category  Raw Conc. Conc. Unit  \\\n",
       "Date (LT)                                                                      \n",
       "2022-08-14 09:00:00           14.9   57       Moderate         15      UG/M3   \n",
       "2022-12-30 23:00:00          244.0  294   V. Unhealthy        258      UG/M3   \n",
       "2022-04-26 08:00:00           82.3  165      Unhealthy         78      UG/M3   \n",
       "2022-04-04 18:00:00           57.3  152      Unhealthy         62      UG/M3   \n",
       "2022-06-16 12:00:00           58.3  152      Unhealthy         64      UG/M3   \n",
       "...                            ...  ...            ...        ...        ...   \n",
       "2022-08-04 16:00:00           37.7  106  Un. Sensitive         49      UG/M3   \n",
       "2022-11-15 06:00:00          141.5  195      Unhealthy        141      UG/M3   \n",
       "2022-02-26 06:00:00           96.8  172      Unhealthy         82      UG/M3   \n",
       "2022-11-15 08:00:00          143.3  196      Unhealthy        148      UG/M3   \n",
       "2022-02-23 23:00:00          200.3  250   V. Unhealthy        172      UG/M3   \n",
       "\n",
       "                    Duration QC Name  \n",
       "Date (LT)                             \n",
       "2022-08-14 09:00:00     1 Hr   Valid  \n",
       "2022-12-30 23:00:00     1 Hr   Valid  \n",
       "2022-04-26 08:00:00     1 Hr   Valid  \n",
       "2022-04-04 18:00:00     1 Hr   Valid  \n",
       "2022-06-16 12:00:00     1 Hr   Valid  \n",
       "...                      ...     ...  \n",
       "2022-08-04 16:00:00     1 Hr   Valid  \n",
       "2022-11-15 06:00:00     1 Hr   Valid  \n",
       "2022-02-26 06:00:00     1 Hr   Valid  \n",
       "2022-11-15 08:00:00     1 Hr   Valid  \n",
       "2022-02-23 23:00:00     1 Hr   Valid  \n",
       "\n",
       "[6309 rows x 13 columns]"
      ]
     },
     "execution_count": 5,
     "metadata": {},
     "output_type": "execute_result"
    }
   ],
   "source": [
    "from sklearn.model_selection import train_test_split\n",
    "train, test = train_test_split(df, test_size = 0.25, random_state = 10)\n",
    "train"
   ]
  },
  {
   "cell_type": "code",
   "execution_count": 6,
   "id": "482fc023",
   "metadata": {},
   "outputs": [
    {
     "data": {
      "text/plain": [
       "Site             0\n",
       "Parameter        0\n",
       "Year             0\n",
       "Month            0\n",
       "Day              0\n",
       "Hour             0\n",
       "NowCast Conc.    0\n",
       "AQI              0\n",
       "AQI Category     9\n",
       "Raw Conc.        0\n",
       "Conc. Unit       0\n",
       "Duration         0\n",
       "QC Name          0\n",
       "dtype: int64"
      ]
     },
     "execution_count": 6,
     "metadata": {},
     "output_type": "execute_result"
    }
   ],
   "source": [
    "#checking null values\n",
    "train.isnull().any()\n",
    "train.isnull().sum()"
   ]
  },
  {
   "cell_type": "code",
   "execution_count": 7,
   "id": "67b05726",
   "metadata": {},
   "outputs": [
    {
     "data": {
      "text/plain": [
       "Site             0\n",
       "Parameter        0\n",
       "Year             0\n",
       "Month            0\n",
       "Day              0\n",
       "Hour             0\n",
       "NowCast Conc.    0\n",
       "AQI              0\n",
       "AQI Category     0\n",
       "Raw Conc.        0\n",
       "Conc. Unit       0\n",
       "Duration         0\n",
       "QC Name          0\n",
       "dtype: int64"
      ]
     },
     "execution_count": 7,
     "metadata": {},
     "output_type": "execute_result"
    }
   ],
   "source": [
    "#Handling Null Values\n",
    "train.fillna(method=\"ffill\", inplace = True)\n",
    "train.isnull().any()\n",
    "train.isnull().sum()"
   ]
  },
  {
   "cell_type": "code",
   "execution_count": 8,
   "id": "66b416b0",
   "metadata": {},
   "outputs": [],
   "source": [
    "#handling special values\n",
    "# Replace '-999' and 'Missing' with 'Nan'\n",
    "\n",
    "train.replace([-999, 'Missing'], np.nan, inplace=True)\n",
    "\n",
    "# Forward-fill NaN values\n",
    "\n",
    "train.fillna(method='ffill', inplace=True)\n",
    "\n",
    "#Replacing 'Hr' in Duration column by empty string\n",
    "train['Duration'] = train['Duration'].replace('[A-Za-z]','',regex=True)"
   ]
  },
  {
   "cell_type": "code",
   "execution_count": 9,
   "id": "c6b8d0c1",
   "metadata": {},
   "outputs": [
    {
     "data": {
      "text/plain": [
       "<AxesSubplot:xlabel='AQI Category', ylabel='count'>"
      ]
     },
     "execution_count": 9,
     "metadata": {},
     "output_type": "execute_result"
    },
    {
     "data": {
      "image/png": "[encoded data removed]",
      "text/plain": [
       "<Figure size 640x480 with 1 Axes>"
      ]
     },
     "metadata": {},
     "output_type": "display_data"
    }
   ],
   "source": [
    "#checking balance and plotting histogram\n",
    "train['AQI Category'].value_counts()\n",
    "sns.countplot(x=train['AQI Category'])"
   ]
  },
  {
   "cell_type": "code",
   "execution_count": 10,
   "id": "faad0c35",
   "metadata": {},
   "outputs": [
    {
     "name": "stdout",
     "output_type": "stream",
     "text": [
      "Unique value in Site:  ['Dhaka']\n",
      "Unique value in Parameter:  ['PM2.5 - Principal']\n",
      "Unique value in AQI Category:  ['Moderate' 'V. Unhealthy' 'Unhealthy' 'Un. Sensitive' 'Hazardous' 'Good']\n",
      "Unique value in Conc. Unit:  ['UG/M3']\n",
      "Unique value in QC Name:  ['Valid' 'Invalid' 'Suspect']\n"
     ]
    }
   ],
   "source": [
    "#unique value checking for categorical Features\n",
    "\n",
    "print(\"Unique value in Site: \",train['Site'].unique())\n",
    "print(\"Unique value in Parameter: \",train['Parameter'].unique())\n",
    "print(\"Unique value in AQI Category: \",train['AQI Category'].unique())\n",
    "print(\"Unique value in Conc. Unit: \",train['Conc. Unit'].unique())\n",
    "print(\"Unique value in QC Name: \",train['QC Name'].unique())"
   ]
  },
  {
   "cell_type": "code",
   "execution_count": 11,
   "id": "ac2f1fdc",
   "metadata": {},
   "outputs": [],
   "source": [
    "#Converting categorical to numerical (label encoding)\n",
    "\n",
    "from sklearn.preprocessing import LabelEncoder\n",
    "\n",
    "le = LabelEncoder()\n",
    "train['N_Site']=le.fit_transform(train.Site)\n",
    "train['N_Parameter']=le.fit_transform(train.Parameter)\n",
    "train['N_Conc. Unit']=le.fit_transform(train['Conc. Unit'])\n",
    "train['N_QC Name']=le.fit_transform(train['QC Name'])\n",
    "train['N_AQI Category']=le.fit_transform(train['AQI Category'])"
   ]
  },
  {
   "cell_type": "code",
   "execution_count": 12,
   "id": "02b17d03",
   "metadata": {},
   "outputs": [],
   "source": [
    "train= train.drop(columns= ['Site','Parameter','AQI Category','Conc. Unit','QC Name'], axis=1)"
   ]
  },
  {
   "cell_type": "code",
   "execution_count": 13,
   "id": "7dc9043a",
   "metadata": {},
   "outputs": [],
   "source": [
    "X=train.drop(columns=['N_AQI Category'])\n",
    "Y=train['N_AQI Category']"
   ]
  },
  {
   "cell_type": "code",
   "execution_count": 14,
   "id": "3298504c",
   "metadata": {},
   "outputs": [
    {
     "name": "stdout",
     "output_type": "stream",
     "text": [
      "4    2784\n",
      "3    1354\n",
      "5    1016\n",
      "2     907\n",
      "1     221\n",
      "0      27\n",
      "Name: N_AQI Category, dtype: int64\n",
      "2    2784\n",
      "5    2784\n",
      "4    2784\n",
      "3    2784\n",
      "1    2784\n",
      "0    2784\n",
      "Name: N_AQI Category, dtype: int64\n"
     ]
    },
    {
     "data": {
      "text/plain": [
       "<AxesSubplot:xlabel='N_AQI Category', ylabel='count'>"
      ]
     },
     "execution_count": 14,
     "metadata": {},
     "output_type": "execute_result"
    },
    {
     "data": {
      "image/png": "[encoded data removed]",
      "text/plain": [
       "<Figure size 640x480 with 1 Axes>"
      ]
     },
     "metadata": {},
     "output_type": "display_data"
    }
   ],
   "source": [
    "print(Y.value_counts())\n",
    "\n",
    "from imblearn.over_sampling import SMOTE\n",
    "smote = SMOTE(sampling_strategy = 'not majority')\n",
    "X_sm, Y_sm = smote.fit_resample(X,Y)\n",
    "\n",
    "print(Y_sm.value_counts())\n",
    "sns.countplot(x=Y_sm)"
   ]
  },
  {
   "cell_type": "code",
   "execution_count": 15,
   "id": "3a062da6",
   "metadata": {},
   "outputs": [
    {
     "data": {
      "image/png": "[encoded data removed]",
      "text/plain": [
       "<Figure size 640x480 with 1 Axes>"
      ]
     },
     "metadata": {},
     "output_type": "display_data"
    }
   ],
   "source": [
    "from sklearn.feature_selection import mutual_info_classif\n",
    "entropy= mutual_info_classif(X_sm,Y_sm)\n",
    "fit_entrophy= pd.Series(entropy,train.columns[0:len(train.columns)-1])\n",
    "fit_entrophy.plot(kind='barh', color='teal')\n",
    "plt.show()"
   ]
  },
  {
   "cell_type": "code",
   "execution_count": 16,
   "id": "3832e8ea",
   "metadata": {},
   "outputs": [
    {
     "data": {
      "text/plain": [
       "<AxesSubplot:>"
      ]
     },
     "execution_count": 16,
     "metadata": {},
     "output_type": "execute_result"
    },
    {
     "data": {
      "image/png": "[encoded data removed]",
      "text/plain": [
       "<Figure size 640x480 with 1 Axes>"
      ]
     },
     "metadata": {},
     "output_type": "display_data"
    }
   ],
   "source": [
    "from sklearn.ensemble import ExtraTreesClassifier\n",
    "importance_model= ExtraTreesClassifier(criterion='gini')\n",
    "importance_model.fit(X_sm,Y_sm)\n",
    "\n",
    "fit_importance= pd.Series(importance_model.feature_importances_, index= X_sm.columns)\n",
    "fit_importance.plot(kind='barh')"
   ]
  },
  {
   "cell_type": "code",
   "execution_count": 17,
   "id": "ba83a950",
   "metadata": {},
   "outputs": [],
   "source": [
    "top8=X_sm[[\"AQI\",\"NowCast Conc.\",\"Raw Conc.\",\"Month\",\"Day\",\"Hour\",\"Year\",\"N_QC Name\"]]\n",
    "top6=X_sm[[\"AQI\",\"NowCast Conc.\",\"Raw Conc.\",\"Month\",\"Day\",\"Hour\"]]\n",
    "top4=X_sm[[\"AQI\",\"NowCast Conc.\",\"Raw Conc.\",\"Month\"]]"
   ]
  },
  {
   "cell_type": "code",
   "execution_count": 18,
   "id": "7f8e7c6c",
   "metadata": {},
   "outputs": [
    {
     "data": {
      "image/png": "[encoded data removed]",
      "text/plain": [
       "<Figure size 640x480 with 1 Axes>"
      ]
     },
     "metadata": {},
     "output_type": "display_data"
    }
   ],
   "source": [
    "from sklearn.preprocessing import MinMaxScaler\n",
    "\n",
    "scaler1= MinMaxScaler()\n",
    "minmax_scaled_X= scaler1.fit_transform(X_sm)\n",
    "minmax_scaled_top8= scaler1.fit_transform(top8)\n",
    "minmax_scaled_top6= scaler1.fit_transform(top6)\n",
    "minmax_scaled_top4= scaler1.fit_transform(top4)\n",
    "\n",
    "plt.hist(minmax_scaled_X)\n",
    "plt.show()"
   ]
  },
  {
   "cell_type": "markdown",
   "id": "c9925997",
   "metadata": {},
   "source": [
    "Decision Tree"
   ]
  },
  {
   "cell_type": "code",
   "execution_count": 19,
   "id": "bd0c0b51",
   "metadata": {},
   "outputs": [],
   "source": [
    "from sklearn.model_selection import KFold\n",
    "from sklearn.model_selection import train_test_split\n",
    "from sklearn.metrics import roc_curve \n",
    "from sklearn.tree import DecisionTreeClassifier\n",
    "from sklearn.linear_model import LogisticRegression\n",
    "from sklearn.metrics import accuracy_score\n",
    "from sklearn.metrics import recall_score\n",
    "from sklearn.metrics import f1_score\n",
    "from sklearn.metrics import precision_score\n",
    "from sklearn.metrics import roc_curve\n",
    "from sklearn.metrics import roc_auc_score\n",
    "import numpy as np\n",
    "from sklearn import tree "
   ]
  },
  {
   "cell_type": "code",
   "execution_count": 20,
   "id": "dbcf73e4",
   "metadata": {},
   "outputs": [],
   "source": [
    "k = 9\n",
    "kf = KFold(n_splits=k, random_state=None)"
   ]
  },
  {
   "cell_type": "code",
   "execution_count": 21,
   "id": "86a7facc",
   "metadata": {},
   "outputs": [],
   "source": [
    "acc_tree_val=[]\n",
    "acc_tree_train=[]\n",
    "precision_tree=[]\n",
    "recall_tree=[]\n",
    "f1_tree=[]\n",
    "AOC_tree=[]\n",
    "ROC_tree_metrix=[]\n",
    "fpr_tree_metrix=[]\n",
    "tpr_tree_metrix=[]"
   ]
  },
  {
   "cell_type": "code",
   "execution_count": 22,
   "id": "70c20208",
   "metadata": {},
   "outputs": [],
   "source": [
    "Tree_model= DecisionTreeClassifier(criterion='gini', max_depth= 5)\n",
    "for train_index , val_index in kf.split(minmax_scaled_X):\n",
    "    \n",
    "    X_train, X_val= minmax_scaled_X[train_index], minmax_scaled_X[val_index]\n",
    "    y_train , y_val = Y_sm[train_index] , Y_sm[val_index]\n",
    "    \n",
    "    \n",
    "\n",
    "    Tree_model.fit(X_train,y_train)\n",
    "    tree_pred_values_train = Tree_model.predict(X_train)\n",
    "    tree_pred_values_val = Tree_model.predict(X_val)\n",
    "    \n",
    "    test_accuracy_of_tree_train = accuracy_score(y_train,tree_pred_values_train)\n",
    "    test_accuracy_of_tree_val = accuracy_score(y_val,tree_pred_values_val)\n",
    "    \n",
    "    acc_tree_train.append(test_accuracy_of_tree_train)\n",
    "    acc_tree_val.append(test_accuracy_of_tree_val)\n",
    "    \n",
    "    precision_tree.append (precision_score(y_val,tree_pred_values_val,average='micro'))\n",
    "    recall_tree.append(recall_score(y_val,tree_pred_values_val,average='micro'))\n",
    "    f1_tree.append(f1_score(y_val,tree_pred_values_val,average='micro'))\n",
    "    \n",
    "    clf = LogisticRegression(solver=\"liblinear\").fit(X_train,y_train)\n",
    "    auc_score_of_tree=roc_auc_score(y_train, clf.predict_proba(X_train), multi_class='ovr')\n",
    "    AOC_tree.append(auc_score_of_tree)"
   ]
  },
  {
   "cell_type": "code",
   "execution_count": 24,
   "id": "ed40adb6",
   "metadata": {},
   "outputs": [
    {
     "name": "stdout",
     "output_type": "stream",
     "text": [
      "Evaluation of Decision Tree:-------------------------------------------------\n",
      "Train accuracy of Decision Tree:  1.0\n",
      "Validation accuracy of Decision Tree:  1.0\n",
      "\n",
      "Precision Score:  1.0\n",
      "recall Score: 1.0\n",
      "f1 Score:  1.0\n"
     ]
    }
   ],
   "source": [
    "print(\"Evaluation of Decision Tree:-------------------------------------------------\")\n",
    "\n",
    "avg_acc_score_of_tree_train = sum(acc_tree_train)/k\n",
    "print(\"Train accuracy of Decision Tree: \",avg_acc_score_of_tree_train)\n",
    "#print(\"\\n\")\n",
    "\n",
    "avg_acc_score_of_tree_val = sum(acc_tree_val)/k\n",
    "print(\"Validation accuracy of Decision Tree: \",avg_acc_score_of_tree_val)\n",
    "#print(\"\\n\")\n",
    "\n",
    "#print(pd.crosstab(y_test,tree_pred_values))\n",
    "\n",
    "avg_precision= sum(precision_tree)/k\n",
    "print(\"\\nPrecision Score: \",avg_precision)\n",
    "\n",
    "avg_recall_micro= sum(recall_tree)/k\n",
    "print(\"recall Score:\", avg_recall_micro)\n",
    "\n",
    "avg_f1=sum(f1_tree)/k\n",
    "print(\"f1 Score: \", avg_f1)"
   ]
  },
  {
   "cell_type": "code",
   "execution_count": 25,
   "id": "97cf876a",
   "metadata": {},
   "outputs": [],
   "source": [
    "param_dist = {\n",
    "    \"criterion\":[\"gini\", \"entropy\"],\n",
    "    \"max_depth\":[1,2,3,4,5,6,7,8,None]\n",
    "}"
   ]
  },
  {
   "cell_type": "code",
   "execution_count": 26,
   "id": "e071c05f",
   "metadata": {},
   "outputs": [],
   "source": [
    "from sklearn.model_selection import GridSearchCV\n",
    "grid = GridSearchCV(Tree_model, param_grid = param_dist, cv = 7)"
   ]
  },
  {
   "cell_type": "code",
   "execution_count": 27,
   "id": "83afacbb",
   "metadata": {},
   "outputs": [
    {
     "data": {
      "text/plain": [
       "{'criterion': 'gini', 'max_depth': 8}"
      ]
     },
     "execution_count": 27,
     "metadata": {},
     "output_type": "execute_result"
    }
   ],
   "source": [
    "grid.fit(X_train,y_train)\n",
    "grid.best_params_"
   ]
  },
  {
   "cell_type": "markdown",
   "id": "5801abed",
   "metadata": {},
   "source": [
    "Test Dataset"
   ]
  },
  {
   "cell_type": "code",
   "execution_count": 28,
   "id": "e779a1ef",
   "metadata": {},
   "outputs": [
    {
     "data": {
      "text/plain": [
       "Site             0\n",
       "Parameter        0\n",
       "Year             0\n",
       "Month            0\n",
       "Day              0\n",
       "Hour             0\n",
       "NowCast Conc.    0\n",
       "AQI              0\n",
       "AQI Category     5\n",
       "Raw Conc.        0\n",
       "Conc. Unit       0\n",
       "Duration         0\n",
       "QC Name          0\n",
       "dtype: int64"
      ]
     },
     "execution_count": 28,
     "metadata": {},
     "output_type": "execute_result"
    }
   ],
   "source": [
    "#checking null values\n",
    "test.isnull().any()\n",
    "test.isnull().sum()"
   ]
  },
  {
   "cell_type": "code",
   "execution_count": 29,
   "id": "836b8b41",
   "metadata": {},
   "outputs": [
    {
     "data": {
      "text/plain": [
       "Site             0\n",
       "Parameter        0\n",
       "Year             0\n",
       "Month            0\n",
       "Day              0\n",
       "Hour             0\n",
       "NowCast Conc.    0\n",
       "AQI              0\n",
       "AQI Category     0\n",
       "Raw Conc.        0\n",
       "Conc. Unit       0\n",
       "Duration         0\n",
       "QC Name          0\n",
       "dtype: int64"
      ]
     },
     "execution_count": 29,
     "metadata": {},
     "output_type": "execute_result"
    }
   ],
   "source": [
    "test.fillna(method=\"ffill\", inplace = True)\n",
    "test.isnull().any()\n",
    "test.isnull().sum()"
   ]
  },
  {
   "cell_type": "code",
   "execution_count": 30,
   "id": "1caa1b49",
   "metadata": {},
   "outputs": [],
   "source": [
    "#handling special values\n",
    "# Replace missing values with NaN and 'Missing' with 'Valid'\n",
    "\n",
    "test.replace([-999, 'Missing'], np.nan, inplace=True)\n",
    "\n",
    "# Forward-fill NaN values\n",
    "\n",
    "test.fillna(method='ffill', inplace=True)\n",
    "\n",
    "#Replacing 'Hr' in Duration column by empty string\n",
    "test['Duration'] = test['Duration'].replace('[A-Za-z]','',regex=True)"
   ]
  },
  {
   "cell_type": "code",
   "execution_count": 31,
   "id": "a03106df",
   "metadata": {},
   "outputs": [],
   "source": [
    "from sklearn.preprocessing import LabelEncoder\n",
    "\n",
    "le = LabelEncoder()\n",
    "test['N_Site']=le.fit_transform(test.Site)\n",
    "test['N_Parameter']=le.fit_transform(test.Parameter)\n",
    "test['N_Conc. Unit']=le.fit_transform(test['Conc. Unit'])\n",
    "test['N_QC Name']=le.fit_transform(test['QC Name'])\n",
    "test['N_AQI Category']=le.fit_transform(test['AQI Category'])"
   ]
  },
  {
   "cell_type": "code",
   "execution_count": 32,
   "id": "5f0bf5ec",
   "metadata": {},
   "outputs": [],
   "source": [
    "test= test.drop(columns= ['Site','Parameter','AQI Category','Conc. Unit','QC Name'], axis=1)"
   ]
  },
  {
   "cell_type": "code",
   "execution_count": 33,
   "id": "f6fae3da",
   "metadata": {},
   "outputs": [],
   "source": [
    "X_test_unscalled = test.drop(columns=['N_AQI Category'])\n",
    "y_test=test['N_AQI Category']\n"
   ]
  },
  {
   "cell_type": "code",
   "execution_count": 34,
   "id": "9a65e938",
   "metadata": {},
   "outputs": [],
   "source": [
    "scaler2= MinMaxScaler()\n",
    "X_test= scaler2.fit_transform(X_test_unscalled)"
   ]
  },
  {
   "cell_type": "code",
   "execution_count": 35,
   "id": "83556b55",
   "metadata": {},
   "outputs": [],
   "source": [
    "tree_pred_values_test = Tree_model.predict(X_test)\n",
    "    \n",
    "test_accuracy_of_tree = accuracy_score(y_test,tree_pred_values_test)\n",
    "        \n",
    "test_precision_tree = precision_score(y_test,tree_pred_values_test,average='micro')\n",
    "test_recall_tree = recall_score(y_test,tree_pred_values_test,average='micro')\n",
    "test_f1_tree = f1_score(y_test,tree_pred_values_test,average='micro')\n",
    "    \n",
    "clf = LogisticRegression(solver=\"liblinear\").fit(X_test,y_test)\n",
    "auc_score_of_tree=roc_auc_score(y_test, clf.predict_proba(X_test), multi_class='ovr')\n",
    "\n",
    "result = pd.DataFrame(columns=['Model', 'Accuracy Score'])\n",
    "result.loc[0] = ['Decision Tree', test_accuracy_of_tree]"
   ]
  },
  {
   "cell_type": "code",
   "execution_count": 36,
   "id": "5a20f1ad",
   "metadata": {},
   "outputs": [
    {
     "name": "stdout",
     "output_type": "stream",
     "text": [
      "\n",
      " Confusion Matrix:\n",
      " [[  4   0   0   0   0   0]\n",
      " [  0  71   0   0   0   0]\n",
      " [  2   0 297   0   0   0]\n",
      " [  0   0  36 415   0   0]\n",
      " [  0   0   0   0 833  59]\n",
      " [  0  34   0   0   0 352]]\n",
      "\n",
      " Classification Report:\n",
      "               precision    recall  f1-score   support\n",
      "\n",
      "           0       0.67      1.00      0.80         4\n",
      "           1       0.68      1.00      0.81        71\n",
      "           2       0.89      0.99      0.94       299\n",
      "           3       1.00      0.92      0.96       451\n",
      "           4       1.00      0.93      0.97       892\n",
      "           5       0.86      0.91      0.88       386\n",
      "\n",
      "    accuracy                           0.94      2103\n",
      "   macro avg       0.85      0.96      0.89      2103\n",
      "weighted avg       0.95      0.94      0.94      2103\n",
      "\n"
     ]
    }
   ],
   "source": [
    "from sklearn.metrics import classification_report, confusion_matrix\n",
    "print('\\n Confusion Matrix:\\n', confusion_matrix(y_test, tree_pred_values_test))\n",
    "print('\\n Classification Report:\\n', classification_report(y_test, tree_pred_values_test))"
   ]
  },
  {
   "cell_type": "markdown",
   "id": "6ae4e93a",
   "metadata": {},
   "source": [
    "Random Forest"
   ]
  },
  {
   "cell_type": "code",
   "execution_count": 37,
   "id": "7283ee5c",
   "metadata": {},
   "outputs": [],
   "source": [
    "from sklearn.ensemble import RandomForestClassifier\n",
    "from sklearn.datasets import make_classification\n",
    "from sklearn import datasets\n",
    "from sklearn.model_selection import KFold\n",
    "from sklearn.model_selection import train_test_split\n",
    "from sklearn.metrics import roc_curve \n",
    "from sklearn.metrics import accuracy_score\n",
    "from sklearn.metrics import recall_score\n",
    "from sklearn.metrics import f1_score\n",
    "from sklearn.metrics import precision_score\n",
    "from sklearn.metrics import roc_curve\n",
    "from sklearn.metrics import roc_auc_score"
   ]
  },
  {
   "cell_type": "code",
   "execution_count": 38,
   "id": "71c7f161",
   "metadata": {},
   "outputs": [],
   "source": [
    "k= 9\n",
    "kf = KFold(n_splits= k, random_state=None)\n",
    "\n",
    "\n",
    "train_acc_forest=[]\n",
    "val_acc_forest=[]\n",
    "precision_forest=[]\n",
    "recall_forest=[]\n",
    "f1_forest=[]\n",
    "AOC_forest=[]\n",
    "ROC_forest_metrix=[]\n",
    "fpr_forest_metrix=[]\n",
    "tpr_forest_metrix=[]"
   ]
  },
  {
   "cell_type": "code",
   "execution_count": 39,
   "id": "654d1b3a",
   "metadata": {},
   "outputs": [],
   "source": [
    "forestModel = RandomForestClassifier(max_depth =  8, max_features =  0.6, max_samples =  1.0, n_estimators = 60)\n",
    "for train_index , val_index in kf.split(minmax_scaled_X):\n",
    "    \n",
    "    X_train, X_val= minmax_scaled_X[train_index], minmax_scaled_X[val_index]\n",
    "    y_train , y_val = Y_sm[train_index] , Y_sm[val_index]\n",
    "    \n",
    "    forestModel.fit(X_train,y_train)\n",
    "    forest_pred_values_train = forestModel.predict(X_train)\n",
    "    forest_pred_values_val = forestModel.predict(X_val)\n",
    "\n",
    "    accuracy_of_forest_train = accuracy_score(y_train,forest_pred_values_train)\n",
    "    accuracy_of_forest_val = accuracy_score(y_val,forest_pred_values_val)\n",
    "    \n",
    "    train_acc_forest.append(accuracy_of_forest_train)\n",
    "    val_acc_forest.append(accuracy_of_forest_val)\n",
    "\n",
    "    precision_forest.append (precision_score(y_val, forest_pred_values_val, average = 'micro'))\n",
    "    recall_forest.append(recall_score(y_val,forest_pred_values_val, average = 'micro'))\n",
    "    f1_forest.append(f1_score(y_val,forest_pred_values_val, average = 'micro'))"
   ]
  },
  {
   "cell_type": "code",
   "execution_count": 40,
   "id": "4281c811",
   "metadata": {},
   "outputs": [
    {
     "name": "stdout",
     "output_type": "stream",
     "text": [
      "Evaluation of Random Forest:-------------------------------------------------\n",
      "Train accuracy of Random Forest:  1.0\n",
      "Validation accuracy of Random Forest:  0.9999401340996168\n",
      "\n",
      "Precision Score:  0.9999401340996168\n",
      "recall Score: 0.9999401340996168\n",
      "f1 Score:  0.9999401340996168\n"
     ]
    }
   ],
   "source": [
    "print(\"Evaluation of Random Forest:-------------------------------------------------\")\n",
    "\n",
    "avg_acc_score_of_forest_train = sum(train_acc_forest)/k\n",
    "print(\"Train accuracy of Random Forest: \",avg_acc_score_of_forest_train)\n",
    "#print(\"\\n\")\n",
    "\n",
    "avg_acc_score_of_forest_val = sum(val_acc_forest)/k\n",
    "print(\"Validation accuracy of Random Forest: \",avg_acc_score_of_forest_val)\n",
    "#print(\"\\n\")\n",
    "\n",
    "#print(pd.crosstab(y_test,tree_pred_values))\n",
    "\n",
    "avg_precision= sum(precision_forest)/k\n",
    "print(\"\\nPrecision Score: \",avg_precision)\n",
    "\n",
    "avg_recall_micro= sum(recall_forest)/k\n",
    "print(\"recall Score:\", avg_recall_micro)\n",
    "\n",
    "avg_f1=sum(f1_forest)/k\n",
    "print(\"f1 Score: \", avg_f1)"
   ]
  },
  {
   "cell_type": "code",
   "execution_count": 41,
   "id": "a6986438",
   "metadata": {},
   "outputs": [],
   "source": [
    "#Number of trees in Random forest\n",
    "n_estimators = [20, 60, 100, 120]\n",
    "\n",
    "#Number of features to consider at every split\n",
    "max_features = [0.2, 0.6, 1.0]\n",
    "\n",
    "#Maximum number of levels in tree\n",
    "max_depth = [2, 8, None]\n",
    "\n",
    "#Number of samples\n",
    "max_samples = [0.5, 0.75, 1.0]"
   ]
  },
  {
   "cell_type": "code",
   "execution_count": 42,
   "id": "4e3a853b",
   "metadata": {},
   "outputs": [
    {
     "name": "stdout",
     "output_type": "stream",
     "text": [
      "{'n_estimators': [20, 60, 100, 120], 'max_features': [0.2, 0.6, 1.0], 'max_depth': [2, 8, None], 'max_samples': [0.5, 0.75, 1.0]}\n"
     ]
    }
   ],
   "source": [
    "param_grid = {'n_estimators': n_estimators,\n",
    "              'max_features': max_features,\n",
    "              'max_depth': max_depth,\n",
    "              'max_samples': max_samples\n",
    "    \n",
    "}\n",
    "\n",
    "print(param_grid)"
   ]
  },
  {
   "cell_type": "code",
   "execution_count": 43,
   "id": "6bf9be57",
   "metadata": {},
   "outputs": [],
   "source": [
    "rf_grid = GridSearchCV(estimator = RandomForestClassifier(),\n",
    "                       param_grid = param_grid,\n",
    "                       cv = 9,\n",
    "                       verbose = 2,\n",
    "                       n_jobs = -1\n",
    "                       )"
   ]
  },
  {
   "cell_type": "code",
   "execution_count": 44,
   "id": "f920b64a",
   "metadata": {},
   "outputs": [
    {
     "name": "stdout",
     "output_type": "stream",
     "text": [
      "Fitting 9 folds for each of 108 candidates, totalling 972 fits\n"
     ]
    },
    {
     "data": {
      "text/plain": [
       "GridSearchCV(cv=9, estimator=RandomForestClassifier(), n_jobs=-1,\n",
       "             param_grid={'max_depth': [2, 8, None],\n",
       "                         'max_features': [0.2, 0.6, 1.0],\n",
       "                         'max_samples': [0.5, 0.75, 1.0],\n",
       "                         'n_estimators': [20, 60, 100, 120]},\n",
       "             verbose=2)"
      ]
     },
     "execution_count": 44,
     "metadata": {},
     "output_type": "execute_result"
    }
   ],
   "source": [
    "rf_grid.fit(X_train,y_train)"
   ]
  },
  {
   "cell_type": "code",
   "execution_count": 45,
   "id": "7c11be40",
   "metadata": {},
   "outputs": [
    {
     "data": {
      "text/plain": [
       "{'max_depth': 8, 'max_features': 0.6, 'max_samples': 1.0, 'n_estimators': 100}"
      ]
     },
     "execution_count": 45,
     "metadata": {},
     "output_type": "execute_result"
    }
   ],
   "source": [
    "rf_grid.best_params_"
   ]
  },
  {
   "cell_type": "markdown",
   "id": "0e93d28f",
   "metadata": {},
   "source": [
    "Test Dataset"
   ]
  },
  {
   "cell_type": "code",
   "execution_count": 46,
   "id": "755a3782",
   "metadata": {},
   "outputs": [],
   "source": [
    "X_test_unscalled_rf = test.drop(columns=['N_AQI Category'])\n",
    "y_test_rf=test['N_AQI Category']"
   ]
  },
  {
   "cell_type": "code",
   "execution_count": 47,
   "id": "79c4170c",
   "metadata": {},
   "outputs": [],
   "source": [
    "scaler3= MinMaxScaler()\n",
    "X_test= scaler3.fit_transform(X_test_unscalled_rf)"
   ]
  },
  {
   "cell_type": "code",
   "execution_count": 49,
   "id": "5d152514",
   "metadata": {},
   "outputs": [],
   "source": [
    "forest_pred_values_test = forestModel.predict(X_test)\n",
    "    \n",
    "test_accuracy_of_forest = accuracy_score(y_test_rf,forest_pred_values_test)\n",
    "        \n",
    "test_precision_forest = precision_score(y_test_rf,forest_pred_values_test,average='micro')\n",
    "test_recall_forest = recall_score(y_test_rf,forest_pred_values_test,average='micro')\n",
    "test_f1_forest = f1_score(y_test_rf,forest_pred_values_test,average='micro')\n",
    "    \n",
    "Rf_clf = LogisticRegression(solver=\"liblinear\").fit(X_test,y_test_rf)\n",
    "auc_score_of_forest=roc_auc_score(y_test_rf, Rf_clf.predict_proba(X_test), multi_class='ovr')\n",
    "\n",
    "result.loc[1] = ['Random Forest', test_accuracy_of_forest]"
   ]
  },
  {
   "cell_type": "code",
   "execution_count": 50,
   "id": "8efa875d",
   "metadata": {},
   "outputs": [
    {
     "name": "stdout",
     "output_type": "stream",
     "text": [
      "\n",
      " Confusion Matrix:\n",
      " [[  4   0   0   0   0   0]\n",
      " [  0  71   0   0   0   0]\n",
      " [  2   0 297   0   0   0]\n",
      " [  0   0  36 362  53   0]\n",
      " [  0   0   0   0 835  57]\n",
      " [  0  34   0   0   0 352]]\n",
      "\n",
      " Classification Report:\n",
      "               precision    recall  f1-score   support\n",
      "\n",
      "           0       0.67      1.00      0.80         4\n",
      "           1       0.68      1.00      0.81        71\n",
      "           2       0.89      0.99      0.94       299\n",
      "           3       1.00      0.80      0.89       451\n",
      "           4       0.94      0.94      0.94       892\n",
      "           5       0.86      0.91      0.89       386\n",
      "\n",
      "    accuracy                           0.91      2103\n",
      "   macro avg       0.84      0.94      0.88      2103\n",
      "weighted avg       0.92      0.91      0.91      2103\n",
      "\n"
     ]
    }
   ],
   "source": [
    "\n",
    "print('\\n Confusion Matrix:\\n', confusion_matrix(y_test, forest_pred_values_test))\n",
    "print('\\n Classification Report:\\n',classification_report(y_test, forest_pred_values_test))"
   ]
  },
  {
   "cell_type": "markdown",
   "id": "7eccc181",
   "metadata": {},
   "source": [
    "KNN classifier"
   ]
  },
  {
   "cell_type": "code",
   "execution_count": 51,
   "id": "0fb5ca6b",
   "metadata": {},
   "outputs": [],
   "source": [
    "from sklearn.neighbors import KNeighborsClassifier\n",
    "from sklearn import datasets\n",
    "from sklearn.model_selection import KFold\n",
    "from sklearn.model_selection import train_test_split\n",
    "from sklearn.metrics import roc_curve \n",
    "from sklearn.metrics import accuracy_score\n",
    "from sklearn.metrics import recall_score\n",
    "from sklearn.metrics import f1_score\n",
    "from sklearn.metrics import precision_score\n",
    "from sklearn.metrics import roc_curve\n",
    "from sklearn.metrics import roc_auc_score"
   ]
  },
  {
   "cell_type": "code",
   "execution_count": 52,
   "id": "65071315",
   "metadata": {},
   "outputs": [],
   "source": [
    "k= 9\n",
    "kf = KFold(n_splits= k, random_state=None)\n",
    "\n",
    "train_acc_KNN=[]\n",
    "val_acc_KNN=[]\n",
    "precision_KNN=[]\n",
    "recall_KNN=[]\n",
    "f1_KNN=[]\n",
    "AOC_KNN=[]\n",
    "ROC_KNN_metrix=[]\n",
    "fpr_KNN_metrix=[]\n",
    "tpr_KNN_metrix=[]"
   ]
  },
  {
   "cell_type": "code",
   "execution_count": 53,
   "id": "c77c727e",
   "metadata": {},
   "outputs": [
    {
     "name": "stderr",
     "output_type": "stream",
     "text": [
      "C:\\ProgramData\\Anaconda3\\lib\\site-packages\\sklearn\\neighbors\\_classification.py:228: FutureWarning: Unlike other reduction functions (e.g. `skew`, `kurtosis`), the default behavior of `mode` typically preserves the axis it acts along. In SciPy 1.11.0, this behavior will change: the default value of `keepdims` will become False, the `axis` over which the statistic is taken will be eliminated, and the value None will no longer be accepted. Set `keepdims` to True or False to avoid this warning.\n",
      "  mode, _ = stats.mode(_y[neigh_ind, k], axis=1)\n",
      "C:\\ProgramData\\Anaconda3\\lib\\site-packages\\sklearn\\neighbors\\_classification.py:228: FutureWarning: Unlike other reduction functions (e.g. `skew`, `kurtosis`), the default behavior of `mode` typically preserves the axis it acts along. In SciPy 1.11.0, this behavior will change: the default value of `keepdims` will become False, the `axis` over which the statistic is taken will be eliminated, and the value None will no longer be accepted. Set `keepdims` to True or False to avoid this warning.\n",
      "  mode, _ = stats.mode(_y[neigh_ind, k], axis=1)\n",
      "C:\\ProgramData\\Anaconda3\\lib\\site-packages\\sklearn\\neighbors\\_classification.py:228: FutureWarning: Unlike other reduction functions (e.g. `skew`, `kurtosis`), the default behavior of `mode` typically preserves the axis it acts along. In SciPy 1.11.0, this behavior will change: the default value of `keepdims` will become False, the `axis` over which the statistic is taken will be eliminated, and the value None will no longer be accepted. Set `keepdims` to True or False to avoid this warning.\n",
      "  mode, _ = stats.mode(_y[neigh_ind, k], axis=1)\n",
      "C:\\ProgramData\\Anaconda3\\lib\\site-packages\\sklearn\\neighbors\\_classification.py:228: FutureWarning: Unlike other reduction functions (e.g. `skew`, `kurtosis`), the default behavior of `mode` typically preserves the axis it acts along. In SciPy 1.11.0, this behavior will change: the default value of `keepdims` will become False, the `axis` over which the statistic is taken will be eliminated, and the value None will no longer be accepted. Set `keepdims` to True or False to avoid this warning.\n",
      "  mode, _ = stats.mode(_y[neigh_ind, k], axis=1)\n",
      "C:\\ProgramData\\Anaconda3\\lib\\site-packages\\sklearn\\neighbors\\_classification.py:228: FutureWarning: Unlike other reduction functions (e.g. `skew`, `kurtosis`), the default behavior of `mode` typically preserves the axis it acts along. In SciPy 1.11.0, this behavior will change: the default value of `keepdims` will become False, the `axis` over which the statistic is taken will be eliminated, and the value None will no longer be accepted. Set `keepdims` to True or False to avoid this warning.\n",
      "  mode, _ = stats.mode(_y[neigh_ind, k], axis=1)\n",
      "C:\\ProgramData\\Anaconda3\\lib\\site-packages\\sklearn\\neighbors\\_classification.py:228: FutureWarning: Unlike other reduction functions (e.g. `skew`, `kurtosis`), the default behavior of `mode` typically preserves the axis it acts along. In SciPy 1.11.0, this behavior will change: the default value of `keepdims` will become False, the `axis` over which the statistic is taken will be eliminated, and the value None will no longer be accepted. Set `keepdims` to True or False to avoid this warning.\n",
      "  mode, _ = stats.mode(_y[neigh_ind, k], axis=1)\n",
      "C:\\ProgramData\\Anaconda3\\lib\\site-packages\\sklearn\\neighbors\\_classification.py:228: FutureWarning: Unlike other reduction functions (e.g. `skew`, `kurtosis`), the default behavior of `mode` typically preserves the axis it acts along. In SciPy 1.11.0, this behavior will change: the default value of `keepdims` will become False, the `axis` over which the statistic is taken will be eliminated, and the value None will no longer be accepted. Set `keepdims` to True or False to avoid this warning.\n",
      "  mode, _ = stats.mode(_y[neigh_ind, k], axis=1)\n",
      "C:\\ProgramData\\Anaconda3\\lib\\site-packages\\sklearn\\neighbors\\_classification.py:228: FutureWarning: Unlike other reduction functions (e.g. `skew`, `kurtosis`), the default behavior of `mode` typically preserves the axis it acts along. In SciPy 1.11.0, this behavior will change: the default value of `keepdims` will become False, the `axis` over which the statistic is taken will be eliminated, and the value None will no longer be accepted. Set `keepdims` to True or False to avoid this warning.\n",
      "  mode, _ = stats.mode(_y[neigh_ind, k], axis=1)\n",
      "C:\\ProgramData\\Anaconda3\\lib\\site-packages\\sklearn\\neighbors\\_classification.py:228: FutureWarning: Unlike other reduction functions (e.g. `skew`, `kurtosis`), the default behavior of `mode` typically preserves the axis it acts along. In SciPy 1.11.0, this behavior will change: the default value of `keepdims` will become False, the `axis` over which the statistic is taken will be eliminated, and the value None will no longer be accepted. Set `keepdims` to True or False to avoid this warning.\n",
      "  mode, _ = stats.mode(_y[neigh_ind, k], axis=1)\n",
      "C:\\ProgramData\\Anaconda3\\lib\\site-packages\\sklearn\\neighbors\\_classification.py:228: FutureWarning: Unlike other reduction functions (e.g. `skew`, `kurtosis`), the default behavior of `mode` typically preserves the axis it acts along. In SciPy 1.11.0, this behavior will change: the default value of `keepdims` will become False, the `axis` over which the statistic is taken will be eliminated, and the value None will no longer be accepted. Set `keepdims` to True or False to avoid this warning.\n",
      "  mode, _ = stats.mode(_y[neigh_ind, k], axis=1)\n",
      "C:\\ProgramData\\Anaconda3\\lib\\site-packages\\sklearn\\neighbors\\_classification.py:228: FutureWarning: Unlike other reduction functions (e.g. `skew`, `kurtosis`), the default behavior of `mode` typically preserves the axis it acts along. In SciPy 1.11.0, this behavior will change: the default value of `keepdims` will become False, the `axis` over which the statistic is taken will be eliminated, and the value None will no longer be accepted. Set `keepdims` to True or False to avoid this warning.\n",
      "  mode, _ = stats.mode(_y[neigh_ind, k], axis=1)\n",
      "C:\\ProgramData\\Anaconda3\\lib\\site-packages\\sklearn\\neighbors\\_classification.py:228: FutureWarning: Unlike other reduction functions (e.g. `skew`, `kurtosis`), the default behavior of `mode` typically preserves the axis it acts along. In SciPy 1.11.0, this behavior will change: the default value of `keepdims` will become False, the `axis` over which the statistic is taken will be eliminated, and the value None will no longer be accepted. Set `keepdims` to True or False to avoid this warning.\n",
      "  mode, _ = stats.mode(_y[neigh_ind, k], axis=1)\n",
      "C:\\ProgramData\\Anaconda3\\lib\\site-packages\\sklearn\\neighbors\\_classification.py:228: FutureWarning: Unlike other reduction functions (e.g. `skew`, `kurtosis`), the default behavior of `mode` typically preserves the axis it acts along. In SciPy 1.11.0, this behavior will change: the default value of `keepdims` will become False, the `axis` over which the statistic is taken will be eliminated, and the value None will no longer be accepted. Set `keepdims` to True or False to avoid this warning.\n",
      "  mode, _ = stats.mode(_y[neigh_ind, k], axis=1)\n",
      "C:\\ProgramData\\Anaconda3\\lib\\site-packages\\sklearn\\neighbors\\_classification.py:228: FutureWarning: Unlike other reduction functions (e.g. `skew`, `kurtosis`), the default behavior of `mode` typically preserves the axis it acts along. In SciPy 1.11.0, this behavior will change: the default value of `keepdims` will become False, the `axis` over which the statistic is taken will be eliminated, and the value None will no longer be accepted. Set `keepdims` to True or False to avoid this warning.\n",
      "  mode, _ = stats.mode(_y[neigh_ind, k], axis=1)\n",
      "C:\\ProgramData\\Anaconda3\\lib\\site-packages\\sklearn\\neighbors\\_classification.py:228: FutureWarning: Unlike other reduction functions (e.g. `skew`, `kurtosis`), the default behavior of `mode` typically preserves the axis it acts along. In SciPy 1.11.0, this behavior will change: the default value of `keepdims` will become False, the `axis` over which the statistic is taken will be eliminated, and the value None will no longer be accepted. Set `keepdims` to True or False to avoid this warning.\n",
      "  mode, _ = stats.mode(_y[neigh_ind, k], axis=1)\n",
      "C:\\ProgramData\\Anaconda3\\lib\\site-packages\\sklearn\\neighbors\\_classification.py:228: FutureWarning: Unlike other reduction functions (e.g. `skew`, `kurtosis`), the default behavior of `mode` typically preserves the axis it acts along. In SciPy 1.11.0, this behavior will change: the default value of `keepdims` will become False, the `axis` over which the statistic is taken will be eliminated, and the value None will no longer be accepted. Set `keepdims` to True or False to avoid this warning.\n",
      "  mode, _ = stats.mode(_y[neigh_ind, k], axis=1)\n",
      "C:\\ProgramData\\Anaconda3\\lib\\site-packages\\sklearn\\neighbors\\_classification.py:228: FutureWarning: Unlike other reduction functions (e.g. `skew`, `kurtosis`), the default behavior of `mode` typically preserves the axis it acts along. In SciPy 1.11.0, this behavior will change: the default value of `keepdims` will become False, the `axis` over which the statistic is taken will be eliminated, and the value None will no longer be accepted. Set `keepdims` to True or False to avoid this warning.\n",
      "  mode, _ = stats.mode(_y[neigh_ind, k], axis=1)\n",
      "C:\\ProgramData\\Anaconda3\\lib\\site-packages\\sklearn\\neighbors\\_classification.py:228: FutureWarning: Unlike other reduction functions (e.g. `skew`, `kurtosis`), the default behavior of `mode` typically preserves the axis it acts along. In SciPy 1.11.0, this behavior will change: the default value of `keepdims` will become False, the `axis` over which the statistic is taken will be eliminated, and the value None will no longer be accepted. Set `keepdims` to True or False to avoid this warning.\n",
      "  mode, _ = stats.mode(_y[neigh_ind, k], axis=1)\n"
     ]
    }
   ],
   "source": [
    "KNNModel = KNeighborsClassifier(n_neighbors= 4, metric='minkowski', leaf_size = 10, p=2)\n",
    "for train_index , val_index in kf.split(minmax_scaled_X):\n",
    "    \n",
    "    X_train, X_val= minmax_scaled_X[train_index], minmax_scaled_X[val_index]\n",
    "    y_train , y_val = Y_sm[train_index] , Y_sm[val_index]\n",
    "    \n",
    "    KNNModel.fit(X_train,y_train)\n",
    "    KNN_pred_values_train = KNNModel.predict(X_train)\n",
    "    KNN_pred_values_val = KNNModel.predict(X_val)\n",
    "\n",
    "    accuracy_of_KNN_train = accuracy_score(y_train,KNN_pred_values_train)\n",
    "    accuracy_of_KNN_val = accuracy_score(y_val,KNN_pred_values_val)\n",
    "    \n",
    "    train_acc_KNN.append(accuracy_of_KNN_train)\n",
    "    val_acc_KNN.append(accuracy_of_KNN_val)\n",
    "\n",
    "    precision_KNN.append (precision_score(y_val, KNN_pred_values_val, average = 'micro'))\n",
    "    recall_KNN.append(recall_score(y_val,KNN_pred_values_val, average = 'micro'))\n",
    "    f1_KNN.append(f1_score(y_val,KNN_pred_values_val, average = 'micro'))"
   ]
  },
  {
   "cell_type": "code",
   "execution_count": 54,
   "id": "b6ff6097",
   "metadata": {},
   "outputs": [
    {
     "name": "stdout",
     "output_type": "stream",
     "text": [
      "Evaluation of KNN Classifier:-------------------------------------------------\n",
      "Train accuracy of KNN:  0.9607878352490421\n",
      "Validation accuracy of KNN:  0.9072078544061303\n",
      "\n",
      "Precision Score:  0.9072078544061303\n",
      "recall Score: 0.9072078544061303\n",
      "f1 Score:  0.9072078544061303\n"
     ]
    }
   ],
   "source": [
    "print(\"Evaluation of KNN Classifier:-------------------------------------------------\")\n",
    "\n",
    "avg_acc_score_of_KNN_train = sum(train_acc_KNN)/k\n",
    "print(\"Train accuracy of KNN: \",avg_acc_score_of_KNN_train)\n",
    "\n",
    "avg_acc_score_of_KNN_val = sum(val_acc_KNN)/k\n",
    "print(\"Validation accuracy of KNN: \",avg_acc_score_of_KNN_val)\n",
    "\n",
    "#print(pd.crosstab(y_test,tree_pred_values))\n",
    "\n",
    "avg_precision= sum(precision_KNN)/k\n",
    "print(\"\\nPrecision Score: \",avg_precision)\n",
    "\n",
    "avg_recall_micro= sum(recall_KNN)/k\n",
    "print(\"recall Score:\", avg_recall_micro)\n",
    "\n",
    "avg_f1=sum(f1_KNN)/k\n",
    "print(\"f1 Score: \", avg_f1)\n"
   ]
  },
  {
   "cell_type": "code",
   "execution_count": 55,
   "id": "543a38b4",
   "metadata": {},
   "outputs": [],
   "source": [
    "knn_params = {\n",
    "    'n_neighbors': range(1, 30, 2),\n",
    "    'metric': ['euclidian','manhattan', 'minkowski'],\n",
    "    'leaf_size': [1, 50, 5],\n",
    "    'p': [1, 2, None]\n",
    "}"
   ]
  },
  {
   "cell_type": "code",
   "execution_count": 56,
   "id": "54700837",
   "metadata": {},
   "outputs": [
    {
     "name": "stderr",
     "output_type": "stream",
     "text": [
      "C:\\ProgramData\\Anaconda3\\lib\\site-packages\\sklearn\\model_selection\\_validation.py:372: FitFailedWarning: \n",
      "1620 fits failed out of a total of 3645.\n",
      "The score on these train-test partitions for these parameters will be set to nan.\n",
      "If these failures are not expected, you can try to debug them by setting error_score='raise'.\n",
      "\n",
      "Below are more details about the failures:\n",
      "--------------------------------------------------------------------------------\n",
      "1215 fits failed with the following error:\n",
      "Traceback (most recent call last):\n",
      "  File \"C:\\ProgramData\\Anaconda3\\lib\\site-packages\\sklearn\\model_selection\\_validation.py\", line 680, in _fit_and_score\n",
      "    estimator.fit(X_train, y_train, **fit_params)\n",
      "  File \"C:\\ProgramData\\Anaconda3\\lib\\site-packages\\sklearn\\neighbors\\_classification.py\", line 198, in fit\n",
      "    return self._fit(X, y)\n",
      "  File \"C:\\ProgramData\\Anaconda3\\lib\\site-packages\\sklearn\\neighbors\\_base.py\", line 437, in _fit\n",
      "    self._check_algorithm_metric()\n",
      "  File \"C:\\ProgramData\\Anaconda3\\lib\\site-packages\\sklearn\\neighbors\\_base.py\", line 374, in _check_algorithm_metric\n",
      "    raise ValueError(\n",
      "ValueError: Metric 'euclidian' not valid. Use sorted(sklearn.neighbors.VALID_METRICS['brute']) to get valid options. Metric can also be a callable function.\n",
      "\n",
      "--------------------------------------------------------------------------------\n",
      "405 fits failed with the following error:\n",
      "Traceback (most recent call last):\n",
      "  File \"C:\\ProgramData\\Anaconda3\\lib\\site-packages\\sklearn\\model_selection\\_validation.py\", line 680, in _fit_and_score\n",
      "    estimator.fit(X_train, y_train, **fit_params)\n",
      "  File \"C:\\ProgramData\\Anaconda3\\lib\\site-packages\\sklearn\\neighbors\\_classification.py\", line 198, in fit\n",
      "    return self._fit(X, y)\n",
      "  File \"C:\\ProgramData\\Anaconda3\\lib\\site-packages\\sklearn\\neighbors\\_base.py\", line 437, in _fit\n",
      "    self._check_algorithm_metric()\n",
      "  File \"C:\\ProgramData\\Anaconda3\\lib\\site-packages\\sklearn\\neighbors\\_base.py\", line 394, in _check_algorithm_metric\n",
      "    if self.metric in [\"wminkowski\", \"minkowski\"] and effective_p < 1:\n",
      "TypeError: '<' not supported between instances of 'NoneType' and 'int'\n",
      "\n",
      "  warnings.warn(some_fits_failed_message, FitFailedWarning)\n",
      "C:\\ProgramData\\Anaconda3\\lib\\site-packages\\sklearn\\model_selection\\_search.py:969: UserWarning: One or more of the test scores are non-finite: [       nan        nan        nan        nan        nan        nan\n",
      "        nan        nan        nan        nan        nan        nan\n",
      "        nan        nan        nan        nan        nan        nan\n",
      "        nan        nan        nan        nan        nan        nan\n",
      "        nan        nan        nan        nan        nan        nan\n",
      "        nan        nan        nan        nan        nan        nan\n",
      "        nan        nan        nan        nan        nan        nan\n",
      "        nan        nan        nan 0.9593219  0.9593219  0.9593219\n",
      " 0.95891799 0.95891799 0.95891799 0.95595408 0.95595408 0.95595408\n",
      " 0.9562907  0.9562907  0.9562907  0.95453966 0.95453966 0.95453966\n",
      " 0.95427017 0.95427017 0.95427017 0.95346209 0.95346209 0.95346209\n",
      " 0.95245187 0.95245187 0.95245187 0.94928648 0.94928648 0.94928648\n",
      " 0.94820904 0.94820904 0.94820904 0.94773766 0.94773766 0.94773766\n",
      " 0.94585168 0.94585168 0.94585168 0.94362914 0.94362914 0.94362914\n",
      " 0.94282126 0.94282126 0.94282126 0.94133921 0.94133921 0.94133921\n",
      " 0.9593219  0.94591951        nan 0.95891799 0.94336084        nan\n",
      " 0.95595408 0.93736643        nan 0.9562907  0.93332553        nan\n",
      " 0.95453966 0.93184352        nan 0.95427017 0.92706164        nan\n",
      " 0.95346209 0.92544499        nan 0.95245187 0.92302067        nan\n",
      " 0.94928648 0.92322236        nan 0.94820904 0.92228013        nan\n",
      " 0.94773766 0.92012517        nan 0.94585168 0.91695969        nan\n",
      " 0.94362914 0.91554531        nan 0.94282126 0.91231274        nan\n",
      " 0.94133921 0.91009019        nan        nan        nan        nan\n",
      "        nan        nan        nan        nan        nan        nan\n",
      "        nan        nan        nan        nan        nan        nan\n",
      "        nan        nan        nan        nan        nan        nan\n",
      "        nan        nan        nan        nan        nan        nan\n",
      "        nan        nan        nan        nan        nan        nan\n",
      "        nan        nan        nan        nan        nan        nan\n",
      "        nan        nan        nan        nan        nan        nan\n",
      " 0.9593219  0.9593219  0.9593219  0.95891799 0.95891799 0.95891799\n",
      " 0.95595408 0.95595408 0.95595408 0.9562907  0.9562907  0.9562907\n",
      " 0.95453966 0.95453966 0.95453966 0.95427017 0.95427017 0.95427017\n",
      " 0.95346209 0.95346209 0.95346209 0.95245187 0.95245187 0.95245187\n",
      " 0.94928648 0.94928648 0.94928648 0.94820904 0.94820904 0.94820904\n",
      " 0.94773766 0.94773766 0.94773766 0.94585168 0.94585168 0.94585168\n",
      " 0.94362914 0.94362914 0.94362914 0.94282126 0.94282126 0.94282126\n",
      " 0.94133921 0.94133921 0.94133921 0.9593219  0.94591951        nan\n",
      " 0.95891799 0.94336084        nan 0.95595408 0.93736643        nan\n",
      " 0.9562907  0.93332553        nan 0.95453966 0.93184352        nan\n",
      " 0.95427017 0.92706164        nan 0.95346209 0.92544499        nan\n",
      " 0.95245187 0.92302067        nan 0.94928648 0.92322236        nan\n",
      " 0.94820904 0.92228013        nan 0.94773766 0.92012517        nan\n",
      " 0.94585168 0.91695969        nan 0.94362914 0.91554531        nan\n",
      " 0.94282126 0.91231274        nan 0.94133921 0.91009019        nan\n",
      "        nan        nan        nan        nan        nan        nan\n",
      "        nan        nan        nan        nan        nan        nan\n",
      "        nan        nan        nan        nan        nan        nan\n",
      "        nan        nan        nan        nan        nan        nan\n",
      "        nan        nan        nan        nan        nan        nan\n",
      "        nan        nan        nan        nan        nan        nan\n",
      "        nan        nan        nan        nan        nan        nan\n",
      "        nan        nan        nan 0.9593219  0.9593219  0.9593219\n",
      " 0.95891799 0.95891799 0.95891799 0.95595408 0.95595408 0.95595408\n",
      " 0.9562907  0.9562907  0.9562907  0.95453966 0.95453966 0.95453966\n",
      " 0.95427017 0.95427017 0.95427017 0.95346209 0.95346209 0.95346209\n",
      " 0.95245187 0.95245187 0.95245187 0.94928648 0.94928648 0.94928648\n",
      " 0.94820904 0.94820904 0.94820904 0.94773766 0.94773766 0.94773766\n",
      " 0.94585168 0.94585168 0.94585168 0.94362914 0.94362914 0.94362914\n",
      " 0.94282126 0.94282126 0.94282126 0.94133921 0.94133921 0.94133921\n",
      " 0.9593219  0.94591951        nan 0.95891799 0.94336084        nan\n",
      " 0.95595408 0.93736643        nan 0.9562907  0.93332553        nan\n",
      " 0.95453966 0.93184352        nan 0.95427017 0.92706164        nan\n",
      " 0.95346209 0.92544499        nan 0.95245187 0.92302067        nan\n",
      " 0.94928648 0.92322236        nan 0.94820904 0.92228013        nan\n",
      " 0.94773766 0.92012517        nan 0.94585168 0.91695969        nan\n",
      " 0.94362914 0.91554531        nan 0.94282126 0.91231274        nan\n",
      " 0.94133921 0.91009019        nan]\n",
      "  warnings.warn(\n"
     ]
    },
    {
     "data": {
      "text/plain": [
       "GridSearchCV(cv=9, estimator=KNeighborsClassifier(), n_jobs=-1,\n",
       "             param_grid={'leaf_size': [1, 50, 5],\n",
       "                         'metric': ['euclidian', 'manhattan', 'minkowski'],\n",
       "                         'n_neighbors': range(1, 30, 2), 'p': [1, 2, None]},\n",
       "             scoring='accuracy')"
      ]
     },
     "execution_count": 56,
     "metadata": {},
     "output_type": "execute_result"
    }
   ],
   "source": [
    "knn_grid = GridSearchCV(estimator = KNeighborsClassifier(), param_grid = knn_params, cv = 9, n_jobs = -1, scoring = 'accuracy')\n",
    "#knn_grid.get_params().keys()\n",
    "knn_grid.fit(X_train,y_train)"
   ]
  },
  {
   "cell_type": "code",
   "execution_count": 57,
   "id": "4fcc393f",
   "metadata": {},
   "outputs": [
    {
     "data": {
      "text/plain": [
       "{'leaf_size': 1, 'metric': 'manhattan', 'n_neighbors': 1, 'p': 1}"
      ]
     },
     "execution_count": 57,
     "metadata": {},
     "output_type": "execute_result"
    }
   ],
   "source": [
    "knn_grid.best_params_"
   ]
  },
  {
   "cell_type": "markdown",
   "id": "c891ee48",
   "metadata": {},
   "source": [
    "Test Dataset"
   ]
  },
  {
   "cell_type": "code",
   "execution_count": 58,
   "id": "65227bba",
   "metadata": {},
   "outputs": [],
   "source": [
    "X_test_unscalled_knn = test.drop(columns=['N_AQI Category'])\n",
    "y_test=test['N_AQI Category']\n"
   ]
  },
  {
   "cell_type": "code",
   "execution_count": 59,
   "id": "b1ba85d5",
   "metadata": {},
   "outputs": [],
   "source": [
    "scaler4= MinMaxScaler()\n",
    "X_test= scaler4.fit_transform(X_test_unscalled_knn)"
   ]
  },
  {
   "cell_type": "code",
   "execution_count": 60,
   "id": "d6455461",
   "metadata": {},
   "outputs": [
    {
     "name": "stderr",
     "output_type": "stream",
     "text": [
      "C:\\ProgramData\\Anaconda3\\lib\\site-packages\\sklearn\\neighbors\\_classification.py:228: FutureWarning: Unlike other reduction functions (e.g. `skew`, `kurtosis`), the default behavior of `mode` typically preserves the axis it acts along. In SciPy 1.11.0, this behavior will change: the default value of `keepdims` will become False, the `axis` over which the statistic is taken will be eliminated, and the value None will no longer be accepted. Set `keepdims` to True or False to avoid this warning.\n",
      "  mode, _ = stats.mode(_y[neigh_ind, k], axis=1)\n"
     ]
    }
   ],
   "source": [
    "KNN_pred_values_test = KNNModel.predict(X_test)\n",
    "    \n",
    "test_accuracy_of_KNN = accuracy_score(y_test,KNN_pred_values_test)\n",
    "        \n",
    "test_precision_KNN = precision_score(y_test,KNN_pred_values_test,average='micro')\n",
    "test_recall_KNN = recall_score(y_test,KNN_pred_values_test,average='micro')\n",
    "test_f1_KNN = f1_score(y_test,KNN_pred_values_test,average='micro')\n",
    "\n",
    "result.loc[2] = ['KNN Classifier', test_accuracy_of_KNN]"
   ]
  },
  {
   "cell_type": "code",
   "execution_count": 61,
   "id": "94452dbe",
   "metadata": {},
   "outputs": [
    {
     "name": "stdout",
     "output_type": "stream",
     "text": [
      "\n",
      " Confusion Matrix:\n",
      " [[  4   0   0   0   0   0]\n",
      " [  0  70   0   0   0   1]\n",
      " [  5   0 275  19   0   0]\n",
      " [  0   0  77 357  17   0]\n",
      " [  0   0   0  91 786  15]\n",
      " [  0  38   0   0  28 320]]\n",
      "\n",
      " Classification Report:\n",
      "               precision    recall  f1-score   support\n",
      "\n",
      "           0       0.44      1.00      0.62         4\n",
      "           1       0.65      0.99      0.78        71\n",
      "           2       0.78      0.92      0.84       299\n",
      "           3       0.76      0.79      0.78       451\n",
      "           4       0.95      0.88      0.91       892\n",
      "           5       0.95      0.83      0.89       386\n",
      "\n",
      "    accuracy                           0.86      2103\n",
      "   macro avg       0.76      0.90      0.80      2103\n",
      "weighted avg       0.87      0.86      0.86      2103\n",
      "\n"
     ]
    }
   ],
   "source": [
    "print('\\n Confusion Matrix:\\n',confusion_matrix(y_test, KNN_pred_values_test))\n",
    "print('\\n Classification Report:\\n', classification_report(y_test, KNN_pred_values_test))"
   ]
  },
  {
   "cell_type": "markdown",
   "id": "e5ddaaf7",
   "metadata": {},
   "source": [
    "Suppor Vector classifier (SVC) from SVM"
   ]
  },
  {
   "cell_type": "code",
   "execution_count": 62,
   "id": "ef650113",
   "metadata": {},
   "outputs": [],
   "source": [
    "from sklearn.svm import SVC\n",
    "from sklearn.preprocessing import StandardScaler\n",
    "from sklearn.pipeline import make_pipeline\n",
    "from sklearn import datasets\n",
    "from sklearn.model_selection import KFold\n",
    "from sklearn.model_selection import train_test_split\n",
    "from sklearn.metrics import roc_curve \n",
    "from sklearn.metrics import accuracy_score\n",
    "from sklearn.metrics import recall_score\n",
    "from sklearn.metrics import f1_score\n",
    "from sklearn.metrics import precision_score\n",
    "from sklearn.metrics import roc_curve\n",
    "from sklearn.metrics import roc_auc_score\n",
    "from sklearn.calibration import CalibratedClassifierCV"
   ]
  },
  {
   "cell_type": "code",
   "execution_count": 63,
   "id": "767ca2df",
   "metadata": {},
   "outputs": [],
   "source": [
    "k= 9\n",
    "kf = KFold(n_splits= k, random_state=None)\n",
    "\n",
    "train_acc_svc=[]\n",
    "val_acc_svc=[]\n",
    "precision_svc=[]\n",
    "recall_svc=[]\n",
    "f1_svc=[]\n",
    "AOC_svc=[]\n",
    "ROC_svc_metrix=[]\n",
    "fpr_svc_metrix=[]\n",
    "tpr_svc_metrix=[]"
   ]
  },
  {
   "cell_type": "code",
   "execution_count": 64,
   "id": "195703fc",
   "metadata": {},
   "outputs": [],
   "source": [
    "svm= SVC()\n",
    "svcModel = CalibratedClassifierCV(svm)\n",
    "for train_index , test_index in kf.split(minmax_scaled_X):\n",
    "    X_train, X_val= minmax_scaled_X[train_index], minmax_scaled_X[val_index]\n",
    "    y_train , y_val = Y_sm[train_index] , Y_sm[val_index]\n",
    "    \n",
    "    svcModel.fit(X_train,y_train)\n",
    "    svc_pred_values_train = svcModel.predict(X_train)\n",
    "    svc_pred_values_val = svcModel.predict(X_val)\n",
    "\n",
    "    accuracy_of_svc_train = accuracy_score(y_train,svc_pred_values_train)\n",
    "    accuracy_of_svc_val = accuracy_score(y_val,svc_pred_values_val)\n",
    "    \n",
    "    train_acc_svc.append(accuracy_of_svc_train)\n",
    "    val_acc_svc.append(accuracy_of_svc_val)\n",
    "\n",
    "    precision_svc.append (precision_score(y_val, svc_pred_values_val, average = 'micro'))\n",
    "    recall_svc.append(recall_score(y_val,svc_pred_values_val, average = 'micro'))\n",
    "    f1_svc.append(f1_score(y_val,svc_pred_values_val, average = 'micro'))"
   ]
  },
  {
   "cell_type": "code",
   "execution_count": 65,
   "id": "260ba564",
   "metadata": {},
   "outputs": [
    {
     "name": "stdout",
     "output_type": "stream",
     "text": [
      "Evaluation of SVM Classifier:-------------------------------------------------\n",
      "Train accuracy of SVC:  0.9596653496168582\n",
      "Validation accuracy of SVC:  0.96150622605364\n",
      "\n",
      "Precision Score:  0.96150622605364\n",
      "recall Score: 0.96150622605364\n",
      "f1 Score:  0.96150622605364\n"
     ]
    }
   ],
   "source": [
    "print(\"Evaluation of SVM Classifier:-------------------------------------------------\")\n",
    "\n",
    "avg_acc_score_of_svc_train = sum(train_acc_svc)/k\n",
    "print(\"Train accuracy of SVC: \",avg_acc_score_of_svc_train)\n",
    "\n",
    "avg_acc_score_of_svc_val = sum(val_acc_svc)/k\n",
    "print(\"Validation accuracy of SVC: \",avg_acc_score_of_svc_val)\n",
    "\n",
    "#print(pd.crosstab(y_test,tree_pred_values))\n",
    "\n",
    "avg_precision= sum(precision_svc)/k\n",
    "print(\"\\nPrecision Score: \",avg_precision)\n",
    "\n",
    "avg_recall_micro= sum(recall_svc)/k\n",
    "print(\"recall Score:\", avg_recall_micro)\n",
    "\n",
    "avg_f1=sum(f1_svc)/k\n",
    "print(\"f1 Score: \", avg_f1)\n"
   ]
  },
  {
   "cell_type": "code",
   "execution_count": 66,
   "id": "fcf32480",
   "metadata": {},
   "outputs": [],
   "source": [
    "svm_params = {\n",
    "    'C': range(1, 5, 1),\n",
    "    'kernel': ['linear', 'poly', 'rbf'],\n",
    "    'gamma': ['scale', 'auto'],\n",
    "}"
   ]
  },
  {
   "cell_type": "code",
   "execution_count": 67,
   "id": "18cdfd0d",
   "metadata": {},
   "outputs": [
    {
     "data": {
      "text/plain": [
       "GridSearchCV(estimator=SVC(),\n",
       "             param_grid={'C': range(1, 5), 'gamma': ['scale', 'auto'],\n",
       "                         'kernel': ['linear', 'poly', 'rbf']})"
      ]
     },
     "execution_count": 67,
     "metadata": {},
     "output_type": "execute_result"
    }
   ],
   "source": [
    "svm_grid = GridSearchCV(svm, param_grid = svm_params)\n",
    "svm_grid.fit(X_train,y_train)"
   ]
  },
  {
   "cell_type": "code",
   "execution_count": 68,
   "id": "1c738923",
   "metadata": {},
   "outputs": [
    {
     "data": {
      "text/plain": [
       "{'C': 4, 'gamma': 'scale', 'kernel': 'poly'}"
      ]
     },
     "execution_count": 68,
     "metadata": {},
     "output_type": "execute_result"
    }
   ],
   "source": [
    "svm_grid.best_params_"
   ]
  },
  {
   "cell_type": "code",
   "execution_count": 69,
   "id": "6bd1790e",
   "metadata": {},
   "outputs": [],
   "source": [
    "svm= SVC(C= 4, kernel='poly', gamma='scale')\n",
    "svcModel = CalibratedClassifierCV(svm)\n",
    "for train_index , test_index in kf.split(minmax_scaled_X):\n",
    "    X_train, X_val= minmax_scaled_X[train_index], minmax_scaled_X[val_index]\n",
    "    y_train , y_val = Y_sm[train_index] , Y_sm[val_index]\n",
    "    \n",
    "    svcModel.fit(X_train,y_train)\n",
    "    svc_pred_values_train = svcModel.predict(X_train)\n",
    "    svc_pred_values_val = svcModel.predict(X_val)\n",
    "\n",
    "    accuracy_of_svc_train = accuracy_score(y_train,svc_pred_values_train)\n",
    "    accuracy_of_svc_val = accuracy_score(y_val,svc_pred_values_val)\n",
    "    \n",
    "    train_acc_svc.append(accuracy_of_svc_train)\n",
    "    val_acc_svc.append(accuracy_of_svc_val)\n",
    "\n",
    "    precision_svc.append (precision_score(y_val, svc_pred_values_val, average = 'micro'))\n",
    "    recall_svc.append(recall_score(y_val,svc_pred_values_val, average = 'micro'))\n",
    "    f1_svc.append(f1_score(y_val,svc_pred_values_val, average = 'micro'))"
   ]
  },
  {
   "cell_type": "code",
   "execution_count": 70,
   "id": "ecaf1151",
   "metadata": {},
   "outputs": [
    {
     "name": "stdout",
     "output_type": "stream",
     "text": [
      "Evaluation of SVM Classifier:-------------------------------------------------\n",
      "Train accuracy of SVC:  1.9458887092911878\n",
      "Validation accuracy of SVC:  1.952047413793104\n",
      "\n",
      "Precision Score:  1.952047413793104\n",
      "recall Score: 1.952047413793104\n",
      "f1 Score:  1.952047413793104\n"
     ]
    }
   ],
   "source": [
    "print(\"Evaluation of SVM Classifier:-------------------------------------------------\")\n",
    "\n",
    "avg_acc_score_of_svc_train = sum(train_acc_svc)/k\n",
    "print(\"Train accuracy of SVC: \",avg_acc_score_of_svc_train)\n",
    "\n",
    "avg_acc_score_of_svc_val = sum(val_acc_svc)/k\n",
    "print(\"Validation accuracy of SVC: \",avg_acc_score_of_svc_val)\n",
    "\n",
    "#print(pd.crosstab(y_test,tree_pred_values))\n",
    "\n",
    "avg_precision= sum(precision_svc)/k\n",
    "print(\"\\nPrecision Score: \",avg_precision)\n",
    "\n",
    "avg_recall_micro= sum(recall_svc)/k\n",
    "print(\"recall Score:\", avg_recall_micro)\n",
    "\n",
    "avg_f1=sum(f1_svc)/k\n",
    "print(\"f1 Score: \", avg_f1)"
   ]
  },
  {
   "cell_type": "markdown",
   "id": "a41486a7",
   "metadata": {},
   "source": [
    "Test Dataset"
   ]
  },
  {
   "cell_type": "code",
   "execution_count": 71,
   "id": "a8efd41a",
   "metadata": {},
   "outputs": [],
   "source": [
    "X_test_unscalled_svc = test.drop(columns=['N_AQI Category'])\n",
    "y_test=test['N_AQI Category']"
   ]
  },
  {
   "cell_type": "code",
   "execution_count": 72,
   "id": "c08480a7",
   "metadata": {},
   "outputs": [],
   "source": [
    "scaler5= MinMaxScaler()\n",
    "X_test= scaler5.fit_transform(X_test_unscalled_svc)"
   ]
  },
  {
   "cell_type": "code",
   "execution_count": 73,
   "id": "6c1c2216",
   "metadata": {},
   "outputs": [],
   "source": [
    "svc_pred_values_test = svcModel.predict(X_test)\n",
    "    \n",
    "test_accuracy_of_svc = accuracy_score(y_test,svc_pred_values_test)\n",
    "        \n",
    "test_precision_svc = precision_score(y_test,svc_pred_values_test,average='micro')\n",
    "test_recall_svc = recall_score(y_test,svc_pred_values_test,average='micro')\n",
    "test_f1_svc = f1_score(y_test,svc_pred_values_test,average='micro')\n",
    "\n",
    "result.loc[3] = ['SVM Classifier', test_accuracy_of_svc]"
   ]
  },
  {
   "cell_type": "code",
   "execution_count": 74,
   "id": "385b80f1",
   "metadata": {},
   "outputs": [
    {
     "name": "stdout",
     "output_type": "stream",
     "text": [
      "\n",
      " Confusion Matrix:\n",
      " [[  4   0   0   0   0   0]\n",
      " [  0  71   0   0   0   0]\n",
      " [  7   0 292   0   0   0]\n",
      " [  0   0  39 409   3   0]\n",
      " [  0   0   0   7 851  34]\n",
      " [  0  32   0   0   0 354]]\n",
      "\n",
      " Classification Report:\n",
      "               precision    recall  f1-score   support\n",
      "\n",
      "           0       0.36      1.00      0.53         4\n",
      "           1       0.69      1.00      0.82        71\n",
      "           2       0.88      0.98      0.93       299\n",
      "           3       0.98      0.91      0.94       451\n",
      "           4       1.00      0.95      0.97       892\n",
      "           5       0.91      0.92      0.91       386\n",
      "\n",
      "    accuracy                           0.94      2103\n",
      "   macro avg       0.80      0.96      0.85      2103\n",
      "weighted avg       0.95      0.94      0.94      2103\n",
      "\n"
     ]
    }
   ],
   "source": [
    "print('\\n Confusion Matrix:\\n' ,confusion_matrix(y_test, svc_pred_values_test))\n",
    "print('\\n Classification Report:\\n',classification_report(y_test, svc_pred_values_test))"
   ]
  },
  {
   "cell_type": "code",
   "execution_count": 75,
   "id": "e5dc95a4",
   "metadata": {},
   "outputs": [
    {
     "data": {
      "text/html": [
       "<div>\n",
       "<style scoped>\n",
       "    .dataframe tbody tr th:only-of-type {\n",
       "        vertical-align: middle;\n",
       "    }\n",
       "\n",
       "    .dataframe tbody tr th {\n",
       "        vertical-align: top;\n",
       "    }\n",
       "\n",
       "    .dataframe thead th {\n",
       "        text-align: right;\n",
       "    }\n",
       "</style>\n",
       "<table border=\"1\" class=\"dataframe\">\n",
       "  <thead>\n",
       "    <tr style=\"text-align: right;\">\n",
       "      <th></th>\n",
       "      <th>Model</th>\n",
       "      <th>Accuracy Score</th>\n",
       "    </tr>\n",
       "  </thead>\n",
       "  <tbody>\n",
       "    <tr>\n",
       "      <th>0</th>\n",
       "      <td>Decision Tree</td>\n",
       "      <td>0.937708</td>\n",
       "    </tr>\n",
       "    <tr>\n",
       "      <th>1</th>\n",
       "      <td>Random Forest</td>\n",
       "      <td>0.913457</td>\n",
       "    </tr>\n",
       "    <tr>\n",
       "      <th>2</th>\n",
       "      <td>KNN Classifier</td>\n",
       "      <td>0.861626</td>\n",
       "    </tr>\n",
       "    <tr>\n",
       "      <th>3</th>\n",
       "      <td>SVM Classifier</td>\n",
       "      <td>0.941988</td>\n",
       "    </tr>\n",
       "  </tbody>\n",
       "</table>\n",
       "</div>"
      ],
      "text/plain": [
       "            Model  Accuracy Score\n",
       "0   Decision Tree        0.937708\n",
       "1   Random Forest        0.913457\n",
       "2  KNN Classifier        0.861626\n",
       "3  SVM Classifier        0.941988"
      ]
     },
     "execution_count": 75,
     "metadata": {},
     "output_type": "execute_result"
    }
   ],
   "source": [
    "result"
   ]
  },
  {
   "cell_type": "code",
   "execution_count": null,
   "id": "7833ef43",
   "metadata": {},
   "outputs": [],
   "source": []
  }
 ],
 "metadata": {
  "kernelspec": {
   "display_name": "Python 3 (ipykernel)",
   "language": "python",
   "name": "python3"
  },
  "language_info": {
   "codemirror_mode": {
    "name": "ipython",
    "version": 3
   },
   "file_extension": ".py",
   "mimetype": "text/x-python",
   "name": "python",
   "nbconvert_exporter": "python",
   "pygments_lexer": "ipython3",
   "version": "3.9.13"
  }
 },
 "nbformat": 4,
 "nbformat_minor": 5
}
